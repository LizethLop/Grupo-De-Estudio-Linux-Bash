{
 "cells": [
  {
   "cell_type": "markdown",
   "metadata": {},
   "source": [
    "# Bash 1: Álgebra, Variables, Archivos, I/O\n",
    "\n",
    "### Referencias\n",
    "- *The Unix Workbench (pg 85 - 89)*\n",
    "- https://www.geeksforgeeks.org/\n",
    "- *Stack Exchange*\n",
    "\n",
    "### Comandos\n",
    "- `#` : inicia comentarios en un script\n",
    "- operadores algebraicos: `+`, `-`, `\\*`, `/`, `%`\n",
    "- `expr` : comando para declarar una expresión agebraica\n",
    "- `bc`: bench calculator\n",
    "- `=`: asignación\n",
    "- `$`: obtener valor de variable\n",
    "- `$(...)`: sustitución de comandos\n",
    "- `$@`: argumentos de script\n",
    "- `$#`: número de argumentos de script"
   ]
  },
  {
   "cell_type": "markdown",
   "metadata": {},
   "source": [
    "# Ejemplos"
   ]
  },
  {
   "cell_type": "markdown",
   "metadata": {},
   "source": [
    "## 1. Algebra de enteros\n",
    "\n",
    "Vamos a usar todos los comandos. Este script debería ..."
   ]
  },
  {
   "cell_type": "code",
   "execution_count": 4,
   "metadata": {},
   "outputs": [
    {
     "name": "stdout",
     "output_type": "stream",
     "text": [
      "7\n",
      "3\n",
      "10\n",
      "2\n",
      "19\n"
     ]
    }
   ],
   "source": [
    "#!usr/bin/env bash                                                              \n",
    "# File: math.sh                                                                 \n",
    "\n",
    "expr 5 + 2   # suma                                                             \n",
    "expr 5 - 2   # resta                                                            \n",
    "expr 5 \\* 2  # producto                                                         \n",
    "expr 5 / 2   # division de eteros                                               \n",
    "expr 40 % 21 # modulo       "
   ]
  },
  {
   "cell_type": "markdown",
   "metadata": {},
   "source": [
    "Ahora es necesario que abras un editor de texto como Vim o Atom y guardes el siguiente código en un archivo .sh, para luego ejecutarlo desde la terminal usando el comando `bash mi-script.sh`\n",
    "\n",
    "```bash\n",
    "#!usr/bin/env bash       \n",                              
    "# File: bigmath.sh                                                               \n",
    "echo \"22 / 7\" | bc -l                                 echo \"4.2 * 9.15\" | bc -l                             echo \"(6.5 / 0.5) + (6 * 2.2)\" | bc -l \n",
    "```"
   ]
  },
  {
   "cell_type": "markdown",
   "metadata": {},
   "source": []
  }
 ],
 "metadata": {
  "kernelspec": {
   "display_name": "Bash",
   "language": "bash",
   "name": "bash"
  },
  "language_info": {
   "codemirror_mode": "shell",
   "file_extension": ".sh",
   "mimetype": "text/x-sh",
   "name": "bash"
  }
 },
 "nbformat": 4,
 "nbformat_minor": 4
}
