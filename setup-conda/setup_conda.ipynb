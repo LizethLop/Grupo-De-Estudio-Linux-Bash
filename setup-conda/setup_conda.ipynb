{
 "cells": [
  {
   "cell_type": "markdown",
   "metadata": {},
   "source": [
    "# Tutorial de instalación de Anaconda y uso de jupyter notebooks con Bash kernel\n",
    "\n",
    "Para instalar anaconda pueden revisar los requisitos específicos para su sistema operativo en la página oficial https://www.anaconda.com/products/individual. Yo me instalé esto en Ubuntu 20 y no me dio problemas. Si tienes problemas con Windows, escríbenos y te guiamos, pero preferiblemente usa Linux.\n",
    "\n",
    "Este documento se ecribe con **Markdown**, una simplificación para HTML usado en programación web. https://www.markdownguide.org/"
   ]
  },
  {
   "cell_type": "markdown",
   "metadata": {},
   "source": [
    "Mi procedimiento para **instalar Anaconda**, **crear un ambiente usando conda** e instalar **jupyter lab** y el **kernell de Bash** en el ambiente creado fue el siguiente:\n",
    "1. Descargué el file **Anaconda3-2020.11-Linux-x86_64.sh** desde https://www.anaconda.com/products/individual en mi carpeta de descargas `/home/ju/Downloads/`. También pueden hacerlo con **curl** .\n",
    "\n",
    "2. `$ sudo apt-get update`\n",
    "\n",
    "3. `$ sha256sum /path/to/file/Anaconda3-2020.11-Linux-x86_64.sh` para comprobar la integridad del archivo de instalación. Este comando va a arrojar un número que es un código hash que se puede comparar con el de Anaconda en https://docs.anaconda.com/anaconda/install/hashes/.\n",
    "\n",
    "4. `$ bash /path/to/file/Anaconda3-2020.11-Linux-x86_64.sh` para empezar la instalación. Aceptamos todas las condiciones de instalación hasta que salga el mensaje **Thank you for installing Anaconda 3!**.\n",
    "\n",
    "5. `$ source ~/.bashrc` para actualizar el Terminal. \n",
    "\n",
    "6. `$ conda info` para verificar la instalación de Anaconda.\n",
    "\n",
    "7. Vamos a ver que entre paréntesis al inicio de la primera línea del prompt del Terminal les sale **(base)**. A mi me sale algo así `(base) ju@JU:`. Puede que sea diferente si tienen otra configuración visual de su shell. Esto indica que la shell tiene activa la versión de Python que vino con su versión de Anaconda. En caso de que no quisieran esto porque tienen más versiones de Python instaladas en su computador pueden usar el comando `$ conda config --set auto_activate_base False`. Yo si lo usé porque sino se me dañan unas configuraciones.  \n",
    "\n",
    "8. `$ conda create --name bash python=3.8` para crear un ambiente de nombre **bash**. Ese es el nombre que escogí para el ambiente porque ahí solo planeo tener cosas relacionadas a bash, pero puedes poner otro nombre si gustas. Es importante colocar la versión de Python porque al dejar vacío ese campo automáticamente se crea un ambiente para Python 2.7, pero esta versión está descontinuada. Usé la versión Python 3.8 porque es la más reciente que he usado y que es estable. Quizá luego debamos cambiar a Python 3.7 pero espero que no. Igual solo implica crear un ambiente.\n",
    "\n",
    "9. `$ conda env list` para ver todos los ambientes creados. Debería estar en la lista **bash** o con el nombre que le hayan puesto.\n",
    "\n",
    "10. Ahora vamos a crear una carpeta exclusiva para trabajar con este ambiente. En mi caso yo creé la carpeta `/home/ju/Documents/rsg`. Aquí guardo todo lo del RSG. Luego accedemos `$ cd /home/ju/Documents/rsg`. \n",
    "\n",
    "11. `$ conda activate bash` dentro de la carpeta que acabamos de crear. Para desactivar el ambiente dentro de la carpeta que creamos solo basta con `$ conda deactivate`. Lo importante de usar amientes de Python es que se modulariza el uso del software. Es importante porque ya que Python es un lenguaje de programación open source, siempre hay actualizaciones al software y a veces es necesario usar una versión no tan actualizada. Así, cada ambiente contiene lo estrictamente necesario para algún proyecto en particular y se evita dañar los proyectos por conflictos de versiones. Podríamos **no haber creado** un ambiente para instalar todo directamente en el ambiente **base**. En mi experiencia es mejor siempre crear un nuevo ambiente para cada proyecto y eitar topar el ambiente base porque así se evitan conflictos que pueden ser complicados de resolver debido a dependencias.\n",
    "\n",
    "12. `$ conda install -n bash -c conda-forge jupyterlab` para **instalar jupyterlab**, una versión moderna de jupyter notebooks que se parece más a un IDE. El comando `-n bash` especifica que vamos a instalar el paquete de jupyterlab en el ambiente que creamos antes. El comando `-c conda-forge` indica de qué *channel* conda va a obtener el paquete jupyterlab. En este caso es **conda-forge**, como se especifica en https://jupyter.org/install. Daba lo mismo usar el comando `$ conda install --name bash --channel conda-forge jupyterlab`.\n",
    "\n",
    "13. `$ conda install -n bash -c conda-forge bash_kernel` para instalar el **kernel de Bash** en el ambiente que creamos, como se indica en https://anaconda.org/conda-forge/bash_kernel\n",
    "\n",
    "14. `$ jupyter lab` dentro de la carpeta donde hayan activado el ambiente en donde instalaron jupyter. También pueden intentar `$ jupyter notebook`. "
   ]
  },
  {
   "cell_type": "markdown",
   "metadata": {},
   "source": [
    "Ahora ya podemos crear un notebook :) Podemos también probar el funcionamiento del kernel. Jupyter se abrirá en el explorador de Internet default. Debe quedar algo así:\n",
    "\n",
    "![](jupyterlab_screen.jpeg)"
   ]
  },
  {
   "cell_type": "markdown",
   "metadata": {},
   "source": [
    "Como se puede ver, hay 2 opciones para crear un Notebook: Python 3 y Bash. En este caso dan click en Bash y crean un nuevo jupyter notebook. Este tiene el formato `.ipynb`. Ahora vamos a correr un script de bash. Primero colocamos el cursor en la siguiente celda de código y damos click en el **boton de play** si estamos en `jupyterlab` y en el botón de **Run** si estamos en `jupyter notebook`."
   ]
  },
  {
   "cell_type": "code",
   "execution_count": 1,
   "metadata": {},
   "outputs": [
    {
     "name": "stdout",
     "output_type": "stream",
     "text": [
      "1\n",
      "2\n",
      "3\n",
      "4\n",
      "5\n",
      "6\n",
      "7\n",
      "8\n",
      "9\n",
      "10\n",
      "All done\n"
     ]
    }
   ],
   "source": [
    "#!/bin/bash\n",
    "# Basic while loop\n",
    "counter=1\n",
    "while [ $counter -le 10 ]\n",
    "do\n",
    "echo $counter\n",
    "((counter++))\n",
    "done\n",
    "echo All done"
   ]
  },
  {
   "cell_type": "markdown",
   "metadata": {},
   "source": [
    "Y eso es todo :) "
   ]
  },
  {
   "cell_type": "code",
   "execution_count": null,
   "metadata": {},
   "outputs": [],
   "source": []
  }
 ],
 "metadata": {
  "kernelspec": {
   "display_name": "Bash",
   "language": "bash",
   "name": "bash"
  },
  "language_info": {
   "codemirror_mode": "shell",
   "file_extension": ".sh",
   "mimetype": "text/x-sh",
   "name": "bash"
  }
 },
 "nbformat": 4,
 "nbformat_minor": 4
}
