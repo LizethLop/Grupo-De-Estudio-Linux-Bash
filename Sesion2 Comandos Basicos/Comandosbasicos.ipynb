{
 "cells": [
  {
   "cell_type": "markdown",
   "metadata": {},
   "source": [
    "# **Comandos básicos**\n",
    "\n",
    "### **Referencias**\n",
    "- *The Unix Workbench (pg 6 - 36)*\n",
    "- https://ubuntu.com/tutorials/command-line-for-beginners#1-overview\n",
    "- https://www2.cs.duke.edu/csl/docs/unix_course/intro-1.html#HEADING1-36\n",
    "\n",
    "### **Iniciando con la terminal**\n",
    "\n",
    "La mayoría de los sistemas Linux usan el mismo método abreviado para iniciar la terminal, **Ctrl-Alt-T**.  Para ejecutar comandos, se escribe el mismo en minúsculas y se presiona la tecla **Intro** para ejecutarlo. \n",
    "\n",
    "El **sistema de archivos** de Unix parece una estructura de árbol invertida. Comienzas con el directorio raíz, indicado por **/**, en la parte superior y avanzas hacia abajo a través de los subdirectorios debajo.\n",
    "\n",
    "Las computadoras están organizadas en una jerarquía de carpetas/directorios, donde una carpeta puede contener muchas carpetas y archivos. Esta jerarquía de directorios forma un árbol, en donde el directorio que se encuentra en la parte superior se llama **raíz** y contiene todos los demás directorios de la computadora, y está representado por una barra **(/)**. Por otra parte, el directorio de inicio o home **(~)** contiene todos los archivos del escritorio y cuando se abre por primera vez la terminal, se empieza desde este directorio. De manera que el ordenador siguio la ruta (PATH) desde /, users y ~ para abrir allí la shell.\n",
    "\n",
    "Un **directorio de trabajo** es la ubicación predeterminada en la que se llevarán a cabo las acciones. \n",
    "\n",
    "Un **comando** es un programa que le dice al sistema Unix que haga algo. Tiene la forma:\n",
    "comando [opciones] [argumentos]\n",
    "\n",
    "donde un argumento indica en qué consiste el comando para realizar su acción, generalmente un archivo o una serie de archivos. Una opción modifica el comando, cambiando la forma en que funciona.\n",
    "\n",
    "Los comandos distinguen entre mayúsculas y minúsculas. **Comando** y **comando** no son lo mismo.\n",
    "\n",
    "Las opciones generalmente están precedidas por un guión (-) y, para la mayoría de los comandos, se pueden unir más de una opción, en la forma:\n",
    "\n",
    "comando - [opción] [opción] [opción]\n",
    "\n",
    "O se puede separar las opciones, precediendo cada una de ellas con un guión, por ejemplo:\n",
    "\n",
    "comando -opción1 -opción2 -opción3\n",
    "\n",
    "Algunos comandos básicos se enlistan a continuación: \n",
    "\n",
    "- `pwd` : imprime el directorio de trabajo actual\n",
    "- `ls` : enlista los archivos y carpetas en un directorio\n",
    "\n",
    "_________________________________________________________________________________________________________\n",
    "##### *Variaciones*\n",
    "\n",
    "  - `ls -a` : Nos muestra los archivos y directorios dentro del directorio actual, incluyendo los archivos y directorios ocultos.\n",
    "  - `ls -t` : Ordena los archivos por fecha de modificación.\n",
    "  - `ls -X` : Ordena los archivos por extensión.\n",
    "  - `ls -l` : Muestra toda la información: usuario, grupo, permisos, tamaño, fecha y hora de creación.\n",
    "  - `ls -lh` : Muestra la misma información que ls -l pero con las unidades de tamaño en KB, MB, etc.\n",
    "  - `ls -R` : Muestra el contenido de todos los subdirectorios de forma recursiva.\n",
    "  - `ls -S` : Ordena los resultados por tamaño de archivo.\n",
    "_________________________________________________________________________________________________________\n",
    "\n",
    "- `cd` : cambia el directorio de trabajo\n",
    "- `cd ..` : regresa al directorio principal anterior\n",
    "- `cd ../..` : moverse hacia arriba a través de varios niveles de directorios principales\n",
    "- `clear` : limpia la terminal\n",
    "\n",
    "### **Ejemplo**"
   ]
  },
  {
   "cell_type": "code",
   "execution_count": 4,
   "metadata": {},
   "outputs": [
    {
     "name": "stdout",
     "output_type": "stream",
     "text": [
      "\u001b[0m\u001b[01;34mNotebooks\u001b[0m  \u001b[01;34mSesion2_Comandos_Basicos\u001b[0m\n"
     ]
    }
   ],
   "source": [
    "ls"
   ]
  },
  {
   "cell_type": "code",
   "execution_count": 52,
   "metadata": {},
   "outputs": [
    {
     "name": "stdout",
     "output_type": "stream",
     "text": [
      "total 36\n",
      "-rw-rw-r-- 1 estudio estudio 14850 ene 15 21:53  Comandosbasicos.ipynb\n",
      "drwxrwxr-x 2 estudio estudio  4096 ene 15 20:14 \u001b[0m\u001b[01;34m'folder 1'\u001b[0m\n",
      "drwxrwxr-x 2 estudio estudio  4096 ene 15 20:14 \u001b[01;34m'folder 2'\u001b[0m\n",
      "drwxrwxr-x 2 estudio estudio  4096 ene 15 20:14 \u001b[01;34m'folder 4'\u001b[0m\n",
      "drwxrwxr-x 2 estudio estudio  4096 ene 15 20:14 \u001b[01;34m'folder 5'\u001b[0m\n",
      "-rw-rw-r-- 1 estudio estudio   740 ene  7 14:41  ejemplo.txt\n"
     ]
    }
   ],
   "source": [
    "ls -tl #También se puede emplear ls -t -l"
   ]
  },
  {
   "cell_type": "code",
   "execution_count": 5,
   "metadata": {},
   "outputs": [],
   "source": [
    "cd Sesion2_Comandos_Basicos"
   ]
  },
  {
   "cell_type": "code",
   "execution_count": 3,
   "metadata": {},
   "outputs": [
    {
     "name": "stdout",
     "output_type": "stream",
     "text": [
      "/home/estudio/Documentos/RSG/Sesion2 Comandos Basicos\n"
     ]
    }
   ],
   "source": [
    "pwd"
   ]
  },
  {
   "cell_type": "markdown",
   "metadata": {},
   "source": [
    "### **Rutas absolutas y relativas**\n",
    "\n",
    "Una ruta es una ubicación única a un archivo o carpeta en un sistema de archivos de un SO. Una ruta a un archivo es una combinación de **/** y caracteres alfanuméricos.\n",
    "\n",
    "### **Ruta relativa**\n",
    "\n",
    "La ruta relativa se define como la ruta relacionada con el trabajo actual directamente (pwd). Comienza en su directorio actual y **nunca comienza con /**.\n",
    "\n",
    "#### **Ejemplo**"
   ]
  },
  {
   "cell_type": "code",
   "execution_count": 45,
   "metadata": {},
   "outputs": [
    {
     "name": "stdout",
     "output_type": "stream",
     "text": [
      "/home/estudio/Documentos/RSG\n"
     ]
    }
   ],
   "source": [
    "pwd\n",
    "cd Sesion2_Comandos_Basicos"
   ]
  },
  {
   "cell_type": "code",
   "execution_count": 46,
   "metadata": {},
   "outputs": [
    {
     "name": "stdout",
     "output_type": "stream",
     "text": [
      "/home/estudio/Documentos/RSG/Sesion2_Comandos_Basicos\n"
     ]
    }
   ],
   "source": [
    "pwd"
   ]
  },
  {
   "cell_type": "code",
   "execution_count": 47,
   "metadata": {},
   "outputs": [],
   "source": [
    "cd .."
   ]
  },
  {
   "cell_type": "markdown",
   "metadata": {},
   "source": [
    "### **Ruta absoluta**\n",
    "\n",
    "Una ruta absoluta se define como la especificación de la ubicación de un archivo o directorio desde el directorio raíz (/).\n",
    "Para escribir un nombre de ruta absoluto:\n",
    "\n",
    "**Comience en el directorio raíz (/)** y continúe.\n",
    "Escriba una barra (/) después de cada nombre de directorio (el último es opcional)\n",
    "\n",
    "#### **Ejemplo**"
   ]
  },
  {
   "cell_type": "code",
   "execution_count": 49,
   "metadata": {},
   "outputs": [
    {
     "name": "stdout",
     "output_type": "stream",
     "text": [
      "/home/estudio/Documentos/RSG\n"
     ]
    }
   ],
   "source": [
    "pwd\n",
    "cd /home/estudio/Documentos/RSG/Sesion2_Comandos_Basicos"
   ]
  },
  {
   "cell_type": "code",
   "execution_count": 50,
   "metadata": {},
   "outputs": [
    {
     "name": "stdout",
     "output_type": "stream",
     "text": [
      "/home/estudio/Documentos/RSG/Sesion2_Comandos_Basicos\n"
     ]
    }
   ],
   "source": [
    "pwd"
   ]
  },
  {
   "cell_type": "markdown",
   "metadata": {},
   "source": [
    "### **Creando e inspeccionando**\n",
    "\n",
    "- `echo` : imprime texto a la terminal\n",
    "- `mkdir` : permite crear directorios\n",
    "- `touch` : permite crear archivos de texto vacios\n",
    "- `head` : imprime las 10 primeras líneas de un archivo en la terminal\n",
    "- `head –n #` : imprime # líneas de un archivo en la terminal\n",
    "- `tail` : imprime las primeras líneas de un archivo en la terminal\n",
    "- `>` : almacena la información en un archivo de texto, en lugar de que se imprima en la terminal\n",
    "- `>>` : añade texto al final de un archivo\n",
    "- `wc` : despliega información del archivo \n",
    "- `cat` : imprime un documento en la terminal o concatena los mismos\n",
    "- `less` : se puede utilizar las teclas **flecha arriba, flecha abajo, Re Pág, Av Pág, Inicio** y **Fin** para desplazarse a través de su archivo. Presione *q* retornar a la línea de comandos.\n",
    "- `nano` : sirve para editar un archivo de texto\n",
    "\n",
    "\n",
    "#### **Ojo:** \n",
    "Los sistemas Unix distinguen entre mayúsculas y minúsculas, es decir, consideran que “A.txt” y “a.txt” son dos archivos diferentes. \n",
    "\n",
    "### **Ejemplo**\n",
    "\n"
   ]
  },
  {
   "cell_type": "code",
   "execution_count": 7,
   "metadata": {},
   "outputs": [
    {
     "name": "stdout",
     "output_type": "stream",
     "text": [
      " Comandosbasicos.ipynb  \u001b[0m\u001b[01;34m'folder 1'\u001b[0m  \u001b[01;34m'folder 3'\u001b[0m  \u001b[01;34m'folder 5'\u001b[0m\n",
      " ejemplo.txt            \u001b[01;34m'folder 2'\u001b[0m  \u001b[01;34m'folder 4'\u001b[0m\n"
     ]
    }
   ],
   "source": [
    "#Si desea trabajar con espacios en nombres de directorios o archivos, ingrese los siguientes comandos:\n",
    "mkdir \"folder 1\"\n",
    "mkdir 'folder 2'\n",
    "mkdir folder\\ 3\n",
    "mkdir \"folder 4\" \"folder 5\"\n",
    "ls"
   ]
  },
  {
   "cell_type": "code",
   "execution_count": 8,
   "metadata": {},
   "outputs": [],
   "source": [
    "touch ejemplo1.txt #Creamos un documento txt"
   ]
  },
  {
   "cell_type": "code",
   "execution_count": 9,
   "metadata": {},
   "outputs": [
    {
     "name": "stdout",
     "output_type": "stream",
     "text": [
      "Hello World!\n"
     ]
    }
   ],
   "source": [
    "echo 'Hello World!' #Imprimimos un mensaje en la terminal\n",
    "echo 'Hello World!' > ejemplo1.txt #Almacena informacion en el archivo creado"
   ]
  },
  {
   "cell_type": "code",
   "execution_count": 10,
   "metadata": {},
   "outputs": [],
   "source": [
    "echo 'Bye World!' >> ejemplo1.txt # tener cuidado con este comando porque si solo se escribe > en lugar de >> en el archivo, el contenido anterior se reemplazará"
   ]
  },
  {
   "cell_type": "code",
   "execution_count": 11,
   "metadata": {},
   "outputs": [
    {
     "name": "stdout",
     "output_type": "stream",
     "text": [
      "Hello World!\n",
      "Bye World!\n"
     ]
    }
   ],
   "source": [
    "head ejemplo1.txt"
   ]
  },
  {
   "cell_type": "code",
   "execution_count": 12,
   "metadata": {},
   "outputs": [
    {
     "name": "stdout",
     "output_type": "stream",
     "text": [
      " 2  4 24 ejemplo1.txt\n"
     ]
    }
   ],
   "source": [
    "wc ejemplo1.txt #Mostrará en orden el número de: líneas del archivo, palabras y carácteres"
   ]
  },
  {
   "cell_type": "code",
   "execution_count": 13,
   "metadata": {},
   "outputs": [
    {
     "name": "stdout",
     "output_type": "stream",
     "text": [
      "Todos nos vemos buscando, bien o mal\n",
      "Una salida en el cielo\n",
      "Adentro llueve y parece que nunca va a parar\n",
      "Y va a parar\n",
      "Una sonrisa se ve reflejada en un papel\n",
      "Y se te empañan los ojos\n",
      "Con esas caras diciendo que todo va a estar bien\n",
      "Y va a estar bien\n",
      "Cantando a pesar de las llamas\n",
      "La lala la lala la lala la ah\n",
      "No quiero quedarme sentado\n",
      "No quiero volver a tu lado\n",
      "Creo que me gusta así\n",
      "Ya pasó el tiempo y espero saber por que\n",
      "Estando tan lejos no te quiero ver\n",
      "Cantando a pesar de las llamas\n",
      "La lala la lala la lala la ah\n",
      "Gritando con todas las ganas\n",
      "La lala la lala la lala la ah\n",
      "No llores más\n",
      "Que la noche es larga\n",
      "Ya no duele el frío que te trajo hasta acá\n",
      "Ya no existe acá\n",
      "No existe ese frío que te trajo\n",
      "No quiero quedarme…"
     ]
    }
   ],
   "source": [
    "cat ejemplo.txt "
   ]
  },
  {
   "cell_type": "code",
   "execution_count": 12,
   "metadata": {},
   "outputs": [
    {
     "name": "stdout",
     "output_type": "stream",
     "text": [
      "Todos nos vemos buscando, bien o mal\n",
      "Una salida en el cielo\n",
      "Adentro llueve y parece que nunca va a parar\n",
      "Y va a parar\n",
      "Una sonrisa se ve reflejada en un papel\n",
      "Y se te empañan los ojos\n",
      "Con esas caras diciendo que todo va a estar bien\n",
      "Y va a estar bien\n",
      "Cantando a pesar de las llamas\n",
      "La lala la lala la lala la ah\n",
      "No quiero quedarme sentado\n",
      "No quiero volver a tu lado\n",
      "Creo que me gusta así\n",
      "Ya pasó el tiempo y espero saber por que\n",
      "Estando tan lejos no te quiero ver\n",
      "Cantando a pesar de las llamas\n",
      "La lala la lala la lala la ah\n",
      "Gritando con todas las ganas\n",
      "La lala la lala la lala la ah\n",
      "No llores más\n",
      "Que la noche es larga\n",
      "Ya no duele el frío que te trajo hasta acá\n",
      "Ya no existe acá\n",
      "No existe ese frío que te trajo\n",
      "No quiero quedarme…Hello World!\n",
      "Bye World!\n"
     ]
    }
   ],
   "source": [
    "cat ejemplo.txt ejemplo1.txt"
   ]
  },
  {
   "cell_type": "markdown",
   "metadata": {},
   "source": [
    "### **Migración y eliminación**\n",
    "\n",
    "- `mv` : permite mover archivos o directorios a otro directorio\n",
    "- `cp` : permite copiar un archivo/directorio a otra ubicación\n",
    "- `cp -r` : permite copiar un directorio a otra ubicación \n",
    "- `rm` : permite eliminar archivos \n",
    "- `rmdir` `rm -r` : permite eliminar un directorio\n",
    "\n",
    "### **Ejemplo**"
   ]
  },
  {
   "cell_type": "code",
   "execution_count": 14,
   "metadata": {
    "slideshow": {
     "slide_type": "slide"
    }
   },
   "outputs": [],
   "source": [
    "mv ejemplo1.txt 'folder 1' # el primer argumento es el archivo/directorio que se desea mover y el segundo el directorio de destino, si ambas se encuentran en diferente ubicación se debe especificar la ruta de cada uno."
   ]
  },
  {
   "cell_type": "code",
   "execution_count": 54,
   "metadata": {},
   "outputs": [],
   "source": [
    "mv ejemplo.txt ejemplo4.txt #Cambio de nombre"
   ]
  },
  {
   "cell_type": "code",
   "execution_count": 15,
   "metadata": {},
   "outputs": [],
   "source": [
    "cp ejemplo.txt 'folder 2' # el primer argumento es el archivo/directorio que se desea copiar y el segundo el directorio de destino, si ambas se encuentran en diferente ubicación se debe especificar la ruta de cada uno."
   ]
  },
  {
   "cell_type": "code",
   "execution_count": 16,
   "metadata": {},
   "outputs": [],
   "source": [
    "rm 'folder 1'/ejemplo1.txt # si no nos encontramos en el directorio donde se encuentra el archivo que se desea eliminar se debe especificar su ruta"
   ]
  },
  {
   "cell_type": "code",
   "execution_count": 17,
   "metadata": {},
   "outputs": [],
   "source": [
    "rmdir 'folder 3' # si no nos encontramos en el directorio donde se encuentra el directorio que se desea eliminar se debe especificar su ruta"
   ]
  }
 ],
 "metadata": {
  "kernelspec": {
   "display_name": "Bash",
   "language": "bash",
   "name": "bash"
  },
  "language_info": {
   "codemirror_mode": "shell",
   "file_extension": ".sh",
   "mimetype": "text/x-sh",
   "name": "bash"
  }
 },
 "nbformat": 4,
 "nbformat_minor": 4
}
