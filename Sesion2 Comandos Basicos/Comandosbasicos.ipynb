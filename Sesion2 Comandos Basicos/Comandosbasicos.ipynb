{
 "cells": [
  {
   "cell_type": "markdown",
   "metadata": {},
   "source": [
    "# **Comandos básicos**\n",
    "\n",
    "### **Referencias**\n",
    "- *The Unix Workbench (pg 6 - 36)*\n",
    "- https://ubuntu.com/tutorials/command-line-for-beginners#1-overview\n",
    "\n",
    "### **Iniciando con la terminal**\n",
    "\n",
    "La mayoría de los sistemas Linux usan el mismo método abreviado para iniciar la terminal, **Ctrl-Alt-T**.  Para ejecutar comandos, se escribe el mismo en minúsculas y se presiona la tecla **Intro** para ejecutarlo. \n",
    "\n",
    "Un *directorio de trabajo* es la ubicación predeterminada en la que se llevarán a cabo las acciones. Los comandos para trabajar con estos son: \n",
    "\n",
    "- `pwd` : imprime el directorio de trabajo actual\n",
    "- `ls` : enlista los archivos y carpetas en un directorio\n",
    "- `cd` : cambia el directorio de trabajo\n",
    "- `cd ..` : regresa al directorio principal anterior\n",
    "- `cd ../..` : moverse hacia arriba a través de varios niveles de directorios principales\n",
    "\n",
    "Otro comando importante es:\n",
    "\n",
    "- `clear` : limpia la terminal\n",
    "\n",
    "### **Ejemplo**"
   ]
  },
  {
   "cell_type": "code",
   "execution_count": 12,
   "metadata": {},
   "outputs": [
    {
     "name": "stdout",
     "output_type": "stream",
     "text": [
      "\u001b[0m\u001b[01;34m'Grupo de estudio'\u001b[0m   \u001b[01;34mNotebooks\u001b[0m\n"
     ]
    }
   ],
   "source": [
    "ls"
   ]
  },
  {
   "cell_type": "code",
   "execution_count": 13,
   "metadata": {},
   "outputs": [],
   "source": [
    "cd 'Sesion2 Comandos Basicos'"
   ]
  },
  {
   "cell_type": "code",
   "execution_count": 14,
   "metadata": {},
   "outputs": [
    {
     "name": "stdout",
     "output_type": "stream",
     "text": [
      "/home/estudio/Documentos/RSG/Grupo de estudio\n"
     ]
    }
   ],
   "source": [
    "pwd"
   ]
  },
  {
   "cell_type": "markdown",
   "metadata": {},
   "source": [
    "### **Creando e inspeccionando**\n",
    "\n",
    "- `echo` : imprime texto a la terminal\n",
    "- `mkdir` : permite crear directorios\n",
    "- `touch` : permite crear archivos de texto vacios\n",
    "- `head` : imprime las 10 primeras líneas de un archivo en la terminal\n",
    "- `head –n #` : imprime # líneas de un archivo en la terminal\n",
    "- `tail` : imprime las primeras líneas de un archivo en la terminal\n",
    "- `>` : almacena la información en un archivo de texto, en lugar de que se imprima en la terminal\n",
    "- `>>` : añade texto al final de un archivo\n",
    "- `wc` : despliega información del archivo \n",
    "- `cat` : imprime un documento en la terminal o concatena los mismos\n",
    "- `less` : se puede utilizar las teclas **flecha arriba, flecha abajo, Re Pág, Av Pág, Inicio** y **Fin** para desplazarse a través de su archivo. Presione *q* retornar a la línea de comandos.\n",
    "- `nano` : sirve para editar un archivo de texto\n",
    "\n",
    "\n",
    "#### **Ojo:** \n",
    "Los sistemas Unix distinguen entre mayúsculas y minúsculas, es decir, consideran que “A.txt” y “a.txt” son dos archivos diferentes. \n",
    "\n",
    "### **Ejemplo**\n",
    "\n"
   ]
  },
  {
   "cell_type": "code",
   "execution_count": 15,
   "metadata": {},
   "outputs": [
    {
     "name": "stdout",
     "output_type": "stream",
     "text": [
      " \u001b[0m\u001b[01;34mComandos_basicos\u001b[0m       \u001b[01;34m'folder 1'\u001b[0m  \u001b[01;34m'folder 3'\u001b[0m  \u001b[01;34m'folder 5'\u001b[0m\n",
      " Comandosbasicos.ipynb  \u001b[01;34m'folder 2'\u001b[0m  \u001b[01;34m'folder 4'\u001b[0m\n"
     ]
    }
   ],
   "source": [
    "#Si desea trabajar con espacios en nombres de directorios o archivos, ingrese los siguientes comandos:\n",
    "mkdir \"folder 1\"\n",
    "mkdir 'folder 2'\n",
    "mkdir folder\\ 3\n",
    "mkdir \"folder 4\" \"folder 5\"\n",
    "ls"
   ]
  },
  {
   "cell_type": "code",
   "execution_count": 16,
   "metadata": {},
   "outputs": [],
   "source": [
    "touch ejemplo.txt #Creamos un documento txt"
   ]
  },
  {
   "cell_type": "code",
   "execution_count": 17,
   "metadata": {},
   "outputs": [
    {
     "name": "stdout",
     "output_type": "stream",
     "text": [
      "Hello World!\n"
     ]
    }
   ],
   "source": [
    "echo 'Hello World!' #Imprimimos un mensaje en la terminal\n",
    "echo 'Hello World!' > ejemplo1.txt #Almacena informacion en el archivo creado"
   ]
  },
  {
   "cell_type": "code",
   "execution_count": 18,
   "metadata": {},
   "outputs": [],
   "source": [
    "echo 'Bye World!' >> ejemplo1.txt # tener cuidado con este comando porque si solo se escribe > en lugar de >> en el archivo, el contenido anterior se reemplazará"
   ]
  },
  {
   "cell_type": "code",
   "execution_count": 20,
   "metadata": {},
   "outputs": [
    {
     "name": "stdout",
     "output_type": "stream",
     "text": [
      "Hello World!\n",
      "Bye World!\n"
     ]
    }
   ],
   "source": [
    "head ejemplo1.txt"
   ]
  },
  {
   "cell_type": "code",
   "execution_count": 21,
   "metadata": {},
   "outputs": [
    {
     "name": "stdout",
     "output_type": "stream",
     "text": [
      " 2  4 24 ejemplo1.txt\n"
     ]
    }
   ],
   "source": [
    "wc ejemplo1.txt #Mostrará en orden el número de: líneas del archivo, palabras y carácteres"
   ]
  },
  {
   "cell_type": "code",
   "execution_count": 22,
   "metadata": {},
   "outputs": [
    {
     "name": "stdout",
     "output_type": "stream",
     "text": [
      "Todos nos vemos buscando, bien o mal\n",
      "Una salida en el cielo\n",
      "Adentro llueve y parece que nunca va a parar\n",
      "Y va a parar\n",
      "Una sonrisa se ve reflejada en un papel\n",
      "Y se te empañan los ojos\n",
      "Con esas caras diciendo que todo va a estar bien\n",
      "Y va a estar bien\n",
      "Cantando a pesar de las llamas\n",
      "La lala la lala la lala la ah\n",
      "No quiero quedarme sentado\n",
      "No quiero volver a tu lado\n",
      "Creo que me gusta así\n",
      "Ya pasó el tiempo y espero saber por que\n",
      "Estando tan lejos no te quiero ver\n",
      "Cantando a pesar de las llamas\n",
      "La lala la lala la lala la ah\n",
      "Gritando con todas las ganas\n",
      "La lala la lala la lala la ah\n",
      "No llores más\n",
      "Que la noche es larga\n",
      "Ya no duele el frío que te trajo hasta acá\n",
      "Ya no existe acá\n",
      "No existe ese frío que te trajo\n",
      "No quiero quedarme…"
     ]
    }
   ],
   "source": [
    "cat ejemplo.txt "
   ]
  },
  {
   "cell_type": "code",
   "execution_count": 23,
   "metadata": {},
   "outputs": [
    {
     "name": "stdout",
     "output_type": "stream",
     "text": [
      "Todos nos vemos buscando, bien o mal\n",
      "Una salida en el cielo\n",
      "Adentro llueve y parece que nunca va a parar\n",
      "Y va a parar\n",
      "Una sonrisa se ve reflejada en un papel\n",
      "Y se te empañan los ojos\n",
      "Con esas caras diciendo que todo va a estar bien\n",
      "Y va a estar bien\n",
      "Cantando a pesar de las llamas\n",
      "La lala la lala la lala la ah\n",
      "No quiero quedarme sentado\n",
      "No quiero volver a tu lado\n",
      "Creo que me gusta así\n",
      "Ya pasó el tiempo y espero saber por que\n",
      "Estando tan lejos no te quiero ver\n",
      "Cantando a pesar de las llamas\n",
      "La lala la lala la lala la ah\n",
      "Gritando con todas las ganas\n",
      "La lala la lala la lala la ah\n",
      "No llores más\n",
      "Que la noche es larga\n",
      "Ya no duele el frío que te trajo hasta acá\n",
      "Ya no existe acá\n",
      "No existe ese frío que te trajo\n",
      "No quiero quedarme…Hello World!\n",
      "Bye World!\n"
     ]
    }
   ],
   "source": [
    "cat ejemplo.txt ejemplo1.txt"
   ]
  },
  {
   "cell_type": "markdown",
   "metadata": {},
   "source": [
    "### **Migración y eliminación**\n",
    "\n",
    "- `mv` : permite mover archivos o directorios a otro directorio\n",
    "- `cp` : permite copiar un archivo/directorio a otra ubicación\n",
    "- `rm` : permite eliminar archivos \n",
    "- `rm -r` : permite eliminar un directorio\n",
    "\n",
    "\n",
    "### **Ejemplo**"
   ]
  },
  {
   "cell_type": "code",
   "execution_count": null,
   "metadata": {},
   "outputs": [],
   "source": [
    "mv ejemplo1.txt 'folder 1' # el primer argumento es el archivo/directorio que se desea mover y el segundo el directorio de destino, si ambas se encuentran en diferente ubicación se debe especificar la ruta de cada uno."
   ]
  },
  {
   "cell_type": "code",
   "execution_count": null,
   "metadata": {},
   "outputs": [],
   "source": [
    "cp ejemplo1.txt 'folder 2' # el primer argumento es el archivo/directorio que se desea copiar y el segundo el directorio de destino, si ambas se encuentran en diferente ubicación se debe especificar la ruta de cada uno."
   ]
  },
  {
   "cell_type": "code",
   "execution_count": null,
   "metadata": {},
   "outputs": [],
   "source": [
    "rm ejemplo1.txt # si no nos encontramos en el directorio donde se encuentra el archivo que se desea eliminar se debe especificar su ruta"
   ]
  },
  {
   "cell_type": "code",
   "execution_count": null,
   "metadata": {},
   "outputs": [],
   "source": [
    "rm –r 'folder 3' # si no nos encontramos en el directorio donde se encuentra el directorio que se desea eliminar se debe especificar su ruta"
   ]
  },
  {
   "cell_type": "code",
   "execution_count": null,
   "metadata": {},
   "outputs": [],
   "source": []
  }
 ],
 "metadata": {
  "kernelspec": {
   "display_name": "Bash",
   "language": "bash",
   "name": "bash"
  },
  "language_info": {
   "codemirror_mode": "shell",
   "file_extension": ".sh",
   "mimetype": "text/x-sh",
   "name": "bash"
  }
 },
 "nbformat": 4,
 "nbformat_minor": 4
}
