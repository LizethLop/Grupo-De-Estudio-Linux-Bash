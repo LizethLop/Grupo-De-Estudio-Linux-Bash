{
 "cells": [
  {
   "cell_type": "markdown",
   "metadata": {
    "slideshow": {
     "slide_type": "slide"
    }
   },
   "source": [
    "# **BIENVENIDOS**\n",
    "![Titulo](Img/Titulo.jpg)"
   ]
  },
  {
   "cell_type": "markdown",
   "metadata": {
    "slideshow": {
     "slide_type": "subslide"
    }
   },
   "source": [
    "# **Calendario y forma de trabajo del grupo de estudio**\n",
    "![Calendario](Img/Calendario.png)"
   ]
  },
  {
   "cell_type": "markdown",
   "metadata": {
    "slideshow": {
     "slide_type": "subslide"
    }
   },
   "source": [
    "# **Libro de referencia**\n",
    "![Libro](Img/Libro.png)"
   ]
  },
  {
   "cell_type": "markdown",
   "metadata": {
    "slideshow": {
     "slide_type": "subslide"
    }
   },
   "source": [
    "# **Calendario con secciones del libro por semana para leer**\n"
   ]
  },
  {
   "cell_type": "markdown",
   "metadata": {
    "slideshow": {
     "slide_type": "slide"
    }
   },
   "source": [
    "# **¿Qué es UNIX?**\n",
    "* Sistema operativo (SO) creado por Ken Thompson y Dennis Ritchie de la empresa *Bell Laboratories* en 1969.\n",
    "* SO multitarea y multiusuario.\n",
    "* La mayoría de SO basados en UNIX hasta 1980 eran comerciales, se usaban por empresas y universidades. \n",
    "* Algunos ejemplos: Solaris, HP/UX, BSD, Mac OS X, GNU/Linux, entre otros.\n",
    "\n",
    "![Unix](Img/unix.jpg)"
   ]
  },
  {
   "cell_type": "markdown",
   "metadata": {
    "slideshow": {
     "slide_type": "subslide"
    }
   },
   "source": [
    "# **GNU/Linux**\n",
    "* En 1983 Richard Stallman lideró la iniciativa [GNU](https://www.gnu.org/) (GNU's Not Unix), SO compatible con UNIX de libre distribución y acceso sin restricciones al código fuente.\n",
    "* En 1991 Linus Torvalds creó su propio [kernel](https://linuxjourney.com/lesson/kernel-overview) (Linux), que es la parte del SO que permite la comunicación con los componentes de Hardware. Este kernel fue distribuido de forma libre y gratuita.\n",
    "* Ambos proyectos se juntaron y se creó GNU/Linux\n",
    "\n",
    "![GNU](Img/GNU_LIN1.png)"
   ]
  },
  {
   "cell_type": "markdown",
   "metadata": {
    "slideshow": {
     "slide_type": "subslide"
    }
   },
   "source": [
    "![GNU](Img/GNU_LIN.png)"
   ]
  },
  {
   "cell_type": "markdown",
   "metadata": {
    "slideshow": {
     "slide_type": "subslide"
    }
   },
   "source": [
    "# **Filosofía GNU/Linux**\n",
    "* Los usuarios son libres de ejecutar, copiar, distribuir, estudiar, cambiar y mejorar el software.\n",
    "* El [software libre](https://www.gnu.org/philosophy/free-sw.html) se refiere a las libertades mencionadas, no al precio.\n",
    "* [\"open source\"](https://opensource.org/) vs [\"free software\"](https://www.gnu.org/philosophy/free-sw.html).\n",
    "\n",
    "![GNU_fil](Img/OS_FS.jpg)"
   ]
  },
  {
   "cell_type": "markdown",
   "metadata": {
    "slideshow": {
     "slide_type": "subslide"
    }
   },
   "source": [
    "# **Distribuciones GNU/Linux**\n",
    "* Tienen en común el kernel Linux, software por defecto de GNU y otras herramientas como editores de texto, etc.\n",
    "* Difieren en el software de instalación, aplicaciones de oficina, exploradores web, documetación, costo. calidad del software, soporte de la comuidad, facilidad de uso, entre otras. \n",
    "\n",
    "![Lin_distrib](Img/Lin_distrib.png)"
   ]
  },
  {
   "cell_type": "markdown",
   "metadata": {
    "slideshow": {
     "slide_type": "subslide"
    }
   },
   "source": [
    "![Lin_distrib1](Img/Lin_distrib1.png)"
   ]
  },
  {
   "cell_type": "markdown",
   "metadata": {
    "slideshow": {
     "slide_type": "subslide"
    }
   },
   "source": [
    "# **Ubuntu**\n",
    "* Una de las distribuciones de GNU/Linux más populares.\n",
    "* Está basada en [Debian](https://www.debian.org/) y fue desarrollada por la empresa [*Canonical*](https://canonical.com/)\n",
    "* Facilidad de uso e instalación. \n",
    "* Interfaz de usuario amigable. \n",
    "\n",
    "![Ubuntu](Img/ubuntu.png)"
   ]
  },
  {
   "cell_type": "markdown",
   "metadata": {
    "slideshow": {
     "slide_type": "slide"
    }
   },
   "source": [
    "# **Shell**\n",
    "* La [*shell*](https://en.wikipedia.org/wiki/Unix_shell) es el programa que provee una interfaz de línea de comandos (CLI), que permite la comunicación entre el usuario y el SO. \n",
    "* La mayoría de distribuciones de Linux tienen por defecto [*bash*](https://en.wikipedia.org/wiki/Bash_(Unix_shell)) (\"Bourne Again SHell\") como *shell*. Hay [otros tipos de shell](https://www.educba.com/types-of-shells-in-linux/) como sh, csh, tcsh, ksh, zsh, entre otras. \n",
    "\n",
    "![shell](Img/CLI.jpg)\n"
   ]
  },
  {
   "cell_type": "markdown",
   "metadata": {
    "slideshow": {
     "slide_type": "subslide"
    }
   },
   "source": [
    "# **Emuladores de terminal**\n",
    "* Un [*emulador de terminal*](https://en.wikipedia.org/wiki/Terminal_emulator) es un programa que permite interactuar con la *shell*. De forma general, se le llama terminal. \n",
    "* Algunos ejemplos de emuladores de terminal son: terminator, tilda, guake, terminology, entre otros. \n",
    "\n",
    "![t_em](Img/em.png)"
   ]
  },
  {
   "cell_type": "markdown",
   "metadata": {
    "slideshow": {
     "slide_type": "slide"
    }
   },
   "source": [
    "# **Instalación - Máquina virtual**\n",
    "* Permite ejecutar un SO (invitado) dentro de otro SO (host).\n",
    "* La memoria RAM y almacenamiento en disco se comparten entre los SO invitado y host.\n",
    "* El SO se instala en una partición virtual del disco duro. \n",
    "* Funciona bien para ejecutar programas y comandos sencillos, pero tiene limitaciones. \n",
    "\n",
    "![t_em](Img/virtB.png)"
   ]
  },
  {
   "cell_type": "markdown",
   "metadata": {
    "slideshow": {
     "slide_type": "subslide"
    }
   },
   "source": [
    "## **Pasos**\n",
    "1. Descargar [VirtualBox](https://www.virtualbox.org/), disponible para Windows, Linux, y Macintosh.\n",
    "2. Descargar [VirtualBox Extension Pack](https://www.virtualbox.org/wiki/Downloads). Una vez instalado VirtualBox, añadir el Extension-pack. \n",
    "3. Descargar una imagen ISO del SO deseado, en este caso de [Ubuntu 20.04](https://ubuntu.com/download/desktop). En esta [página](https://www.linuxlookup.com/linux_iso) hay imágenes de otros SO si están interesados. \n",
    "4. Crear una máquina virtual de Ubuntu 20.04 con VirtualBox. Se debe especificar la memoria RAM, almacenamiento de disco, número de procesadores y otras características. \n",
    "\n",
    "En este [video](https://www.youtube.com/watch?v=x5MhydijWmc) hay una explicación en detalle de todo el proceso. "
   ]
  },
  {
   "cell_type": "markdown",
   "metadata": {
    "slideshow": {
     "slide_type": "slide"
    }
   },
   "source": [
    "# **Instalación - Subsistema de Windows 10 para Linux**\n"
   ]
  },
  {
   "cell_type": "markdown",
   "metadata": {
    "slideshow": {
     "slide_type": "slide"
    }
   },
   "source": [
    "# **Instalación - Dual boot**\n"
   ]
  },
  {
   "cell_type": "markdown",
   "metadata": {
    "slideshow": {
     "slide_type": "slide"
    }
   },
   "source": [
    "# **Sistema de archivos**"
   ]
  },
  {
   "cell_type": "markdown",
   "metadata": {
    "slideshow": {
     "slide_type": "slide"
    }
   },
   "source": [
    "# **Referencias**\n",
    "* Kross, S. (2017). *The unix workbench*. Leanpub. https://leanpub.com/unix\n",
    "* Ross, A. (2019). *The Ultimate Linux Newbie Guide*. https://linuxnewbieguide.org/\n",
    "* Shotts, W. (2019). *The Linux command line: a complete introduction*. No Starch Press. http://www.linuxcommand.org/tlcl.php/index.php \n",
    "* Linux Journey. (2020). Linux Journey. https://linuxjourney.com/\n",
    "* GNU. (2020). GNU. https://www.gnu.org/"
   ]
  }
 ],
 "metadata": {
  "kernelspec": {
   "display_name": "Bash",
   "language": "bash",
   "name": "bash"
  },
  "language_info": {
   "codemirror_mode": "shell",
   "file_extension": ".sh",
   "mimetype": "text/x-sh",
   "name": "bash"
  }
 },
 "nbformat": 4,
 "nbformat_minor": 4
}
