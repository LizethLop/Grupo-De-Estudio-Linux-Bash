{
 "cells": [
  {
   "cell_type": "markdown",
   "metadata": {},
   "source": [
    "# Expresiones regulares"
   ]
  },
  {
   "cell_type": "markdown",
   "metadata": {},
   "source": [
    "\n",
    "Una expresión regular define uno o varios conjuntos de cadena de caracteres usando una notación específica. Se utilizan principalmentes para la búsqueda de patrones de cadenas de caracteres u operaciones de sustituciones.\n"
   ]
  },
  {
   "cell_type": "markdown",
   "metadata": {},
   "source": [
    "## grep "
   ]
  },
  {
   "cell_type": "markdown",
   "metadata": {},
   "source": [
    "<img src=\"grep.png\"> "
   ]
  },
  {
   "cell_type": "markdown",
   "metadata": {},
   "source": [
    "- Utilidad pertenecientes a la linea de comandos "
   ]
  },
  {
   "cell_type": "markdown",
   "metadata": {},
   "source": [
    "* una de las herramientas mas populares para la busqueda en archivo de texto es __grep__*  "
   ]
  },
  {
   "cell_type": "markdown",
   "metadata": {},
   "source": [
    "* El uso mas facíl del commando grep requiere unicamente de dos argumentos: una expresión regular y una archivo de texto donde se realizara la busqueda "
   ]
  },
  {
   "cell_type": "code",
   "execution_count": 1,
   "metadata": {},
   "outputs": [
    {
     "name": "stdout",
     "output_type": "stream",
     "text": [
      "Gua\u001b[01;31m\u001b[Ky\u001b[m\u001b[Kana Francesa\n",
      "Gua\u001b[01;31m\u001b[Ky\u001b[m\u001b[Kana\n",
      "Paragua\u001b[01;31m\u001b[Ky\u001b[m\u001b[K\n",
      "Urugua\u001b[01;31m\u001b[Ky\u001b[m\u001b[K\n"
     ]
    }
   ],
   "source": [
    "grep \"y\" archivo.txt "
   ]
  },
  {
   "cell_type": "markdown",
   "metadata": {},
   "source": [
    "En el comando anterior, el primer argumento para grep \"y\" es la expresión regular y el segundo argumento es el nombre del archivo donde se realizar la busqueda. "
   ]
  },
  {
   "cell_type": "code",
   "execution_count": 2,
   "metadata": {},
   "outputs": [
    {
     "name": "stdout",
     "output_type": "stream",
     "text": [
      "## Provinci\u001b[01;31m\u001b[Ka\u001b[m\u001b[Ks del Ecu\u001b[01;31m\u001b[Ka\u001b[m\u001b[Kdor \n",
      "Argentin\u001b[01;31m\u001b[Ka\u001b[m\u001b[K\n",
      "Bolivi\u001b[01;31m\u001b[Ka\u001b[m\u001b[K\n",
      "Br\u001b[01;31m\u001b[Ka\u001b[m\u001b[Ksil\n",
      "Colombi\u001b[01;31m\u001b[Ka\u001b[m\u001b[K\n",
      "Cost\u001b[01;31m\u001b[Ka\u001b[m\u001b[K Ric\u001b[01;31m\u001b[Ka\u001b[m\u001b[K\n",
      "Cub\u001b[01;31m\u001b[Ka\u001b[m\u001b[K\n",
      "Ecu\u001b[01;31m\u001b[Ka\u001b[m\u001b[Kdor\n",
      "El S\u001b[01;31m\u001b[Ka\u001b[m\u001b[Klv\u001b[01;31m\u001b[Ka\u001b[m\u001b[Kdor\n",
      "Gu\u001b[01;31m\u001b[Ka\u001b[m\u001b[Ky\u001b[01;31m\u001b[Ka\u001b[m\u001b[Kn\u001b[01;31m\u001b[Ka\u001b[m\u001b[K Fr\u001b[01;31m\u001b[Ka\u001b[m\u001b[Knces\u001b[01;31m\u001b[Ka\u001b[m\u001b[K\n",
      "Gr\u001b[01;31m\u001b[Ka\u001b[m\u001b[Kn\u001b[01;31m\u001b[Ka\u001b[m\u001b[Kd\u001b[01;31m\u001b[Ka\u001b[m\u001b[K\n",
      "Gu\u001b[01;31m\u001b[Ka\u001b[m\u001b[Ktem\u001b[01;31m\u001b[Ka\u001b[m\u001b[Kl\u001b[01;31m\u001b[Ka\u001b[m\u001b[K\n",
      "Gu\u001b[01;31m\u001b[Ka\u001b[m\u001b[Ky\u001b[01;31m\u001b[Ka\u001b[m\u001b[Kn\u001b[01;31m\u001b[Ka\u001b[m\u001b[K\n",
      "H\u001b[01;31m\u001b[Ka\u001b[m\u001b[Kití\n",
      "Hondur\u001b[01;31m\u001b[Ka\u001b[m\u001b[Ks\n",
      "J\u001b[01;31m\u001b[Ka\u001b[m\u001b[Km\u001b[01;31m\u001b[Ka\u001b[m\u001b[Kic\u001b[01;31m\u001b[Ka\u001b[m\u001b[K\n",
      "Nic\u001b[01;31m\u001b[Ka\u001b[m\u001b[Kr\u001b[01;31m\u001b[Ka\u001b[m\u001b[Kgu\u001b[01;31m\u001b[Ka\u001b[m\u001b[K\n",
      "P\u001b[01;31m\u001b[Ka\u001b[m\u001b[Kr\u001b[01;31m\u001b[Ka\u001b[m\u001b[Kgu\u001b[01;31m\u001b[Ka\u001b[m\u001b[Ky\n",
      "P\u001b[01;31m\u001b[Ka\u001b[m\u001b[Kn\u001b[01;31m\u001b[Ka\u001b[m\u001b[Kmá\n",
      "Repúblic\u001b[01;31m\u001b[Ka\u001b[m\u001b[K Dominic\u001b[01;31m\u001b[Ka\u001b[m\u001b[Kn\u001b[01;31m\u001b[Ka\u001b[m\u001b[K\n",
      "Surin\u001b[01;31m\u001b[Ka\u001b[m\u001b[Km\n",
      "Urugu\u001b[01;31m\u001b[Ka\u001b[m\u001b[Ky\n",
      "Venezuel\u001b[01;31m\u001b[Ka\u001b[m\u001b[K\n"
     ]
    }
   ],
   "source": [
    "grep \"a\" archivo.txt "
   ]
  },
  {
   "cell_type": "markdown",
   "metadata": {},
   "source": [
    "Además, podemos buscar mas que solo caracteres individuales. Por ejemplo, podemos buscar palabras o partes de alguna palabra. "
   ]
  },
  {
   "cell_type": "code",
   "execution_count": 1,
   "metadata": {},
   "outputs": [
    {
     "name": "stdout",
     "output_type": "stream",
     "text": [
      "\u001b[01;31m\u001b[KEl\u001b[m\u001b[K Salvador\n"
     ]
    }
   ],
   "source": [
    "grep \"El\" archivo.txt "
   ]
  },
  {
   "cell_type": "code",
   "execution_count": 4,
   "metadata": {},
   "outputs": [
    {
     "name": "stdout",
     "output_type": "stream",
     "text": [
      "Br\u001b[01;31m\u001b[Kas\u001b[m\u001b[Kil\n",
      "Hondur\u001b[01;31m\u001b[Kas\u001b[m\u001b[K\n"
     ]
    }
   ],
   "source": [
    "grep \"as\" archivo.txt "
   ]
  },
  {
   "cell_type": "markdown",
   "metadata": {},
   "source": [
    "### Metacaracteres "
   ]
  },
  {
   "cell_type": "markdown",
   "metadata": {},
   "source": [
    "Las expresiones regulares no solo estan limitadas a buscar caracteres y strings. Para aprovechar de mejor manera Regex es necesario la utilización de metacaracteres.\n",
    "__*Los metacaracteres son caracteres que son utilizados para representar otros caracteres*__"
   ]
  },
  {
   "cell_type": "markdown",
   "metadata": {},
   "source": [
    "Para poder utilizar y aprovechar los metacaracteres es necesario utilizar el comando egrep, la cual posee permite extender las expresiones regulares. "
   ]
  },
  {
   "cell_type": "code",
   "execution_count": null,
   "metadata": {},
   "outputs": [],
   "source": [
    "A continuación algunos ejemplos de los metacaracteres mas utilizados "
   ]
  },
  {
   "cell_type": "code",
   "execution_count": 8,
   "metadata": {},
   "outputs": [
    {
     "name": "stdout",
     "output_type": "stream",
     "text": [
      "Gu\u001b[01;31m\u001b[Kaya\u001b[m\u001b[Kna Francesa\n",
      "Gr\u001b[01;31m\u001b[Kana\u001b[m\u001b[Kda\n",
      "Guatem\u001b[01;31m\u001b[Kala\u001b[m\u001b[K\n",
      "Gu\u001b[01;31m\u001b[Kaya\u001b[m\u001b[Kna\n",
      "J\u001b[01;31m\u001b[Kama\u001b[m\u001b[Kica\n",
      "Nic\u001b[01;31m\u001b[Kara\u001b[m\u001b[Kgua\n",
      "P\u001b[01;31m\u001b[Kara\u001b[m\u001b[Kguay\n",
      "P\u001b[01;31m\u001b[Kana\u001b[m\u001b[Kmá\n",
      "República Dominic\u001b[01;31m\u001b[Kana\u001b[m\u001b[K\n"
     ]
    }
   ],
   "source": [
    "egrep \"a.a\" archivo.txt "
   ]
  },
  {
   "cell_type": "code",
   "execution_count": null,
   "metadata": {},
   "outputs": [],
   "source": [
    "El \".\" representa cualquier caracter. "
   ]
  },
  {
   "cell_type": "markdown",
   "metadata": {},
   "source": [
    "Dentro del grupo de los metacaracteres hay un subgrupo llamado __*cuantificadores*__ que permiten especificar el numero de veces que una expresión regular en particular debe aparecer en un string. Por ejemplo: "
   ]
  },
  {
   "cell_type": "markdown",
   "metadata": {},
   "source": [
    "* el signo \"+\" representa una o mas veces "
   ]
  },
  {
   "cell_type": "code",
   "execution_count": 10,
   "metadata": {},
   "outputs": [
    {
     "name": "stdout",
     "output_type": "stream",
     "text": [
      "Nic\u001b[01;31m\u001b[Kara\u001b[m\u001b[Kgua\n",
      "P\u001b[01;31m\u001b[Kara\u001b[m\u001b[Kguay\n"
     ]
    }
   ],
   "source": [
    "egrep \"a+ra\" archivo.txt "
   ]
  },
  {
   "cell_type": "markdown",
   "metadata": {},
   "source": [
    "* el signo \"*\" representa cero o mas veces "
   ]
  },
  {
   "cell_type": "code",
   "execution_count": 12,
   "metadata": {},
   "outputs": [
    {
     "name": "stdout",
     "output_type": "stream",
     "text": [
      "B\u001b[01;31m\u001b[Kra\u001b[m\u001b[Ksil\n",
      "Guayana F\u001b[01;31m\u001b[Kra\u001b[m\u001b[Kncesa\n",
      "G\u001b[01;31m\u001b[Kra\u001b[m\u001b[Knada\n",
      "Hondu\u001b[01;31m\u001b[Kra\u001b[m\u001b[Ks\n",
      "Nic\u001b[01;31m\u001b[Kara\u001b[m\u001b[Kgua\n",
      "P\u001b[01;31m\u001b[Kara\u001b[m\u001b[Kguay\n"
     ]
    }
   ],
   "source": [
    "egrep \"a*ra\" archivo.txt "
   ]
  },
  {
   "cell_type": "markdown",
   "metadata": {},
   "source": [
    "* Puedes usar corchetes { } para especificar un numero exacto de ocurrencias de una expresión. "
   ]
  },
  {
   "cell_type": "code",
   "execution_count": 28,
   "metadata": {},
   "outputs": [
    {
     "name": "stdout",
     "output_type": "stream",
     "text": [
      "Canadá O\u001b[01;31m\u001b[Ktt\u001b[m\u001b[Kawa\n"
     ]
    }
   ],
   "source": [
    "egrep \"t{2}\" archivo.txt "
   ]
  },
  {
   "cell_type": "code",
   "execution_count": null,
   "metadata": {},
   "outputs": [],
   "source": [
    "Nota: tomar en cuenta que la expresión \"t{2}\" es igual a la expresión regular \"aa\""
   ]
  },
  {
   "cell_type": "code",
   "execution_count": 31,
   "metadata": {},
   "outputs": [
    {
     "name": "stdout",
     "output_type": "stream",
     "text": [
      "San Cristóbal y Nieves Ba\u001b[01;31m\u001b[Kss\u001b[m\u001b[Keterre\n"
     ]
    }
   ],
   "source": [
    "egrep \"s{2,3}\" archivo.txt "
   ]
  },
  {
   "cell_type": "markdown",
   "metadata": {},
   "source": [
    "Además podemos especificar el rango de ocurrencias de la letra \"s\", es decir buscamos la expresión regular que tenga entre 2 a 3 letras \"s\""
   ]
  },
  {
   "cell_type": "code",
   "execution_count": 56,
   "metadata": {},
   "outputs": [
    {
     "name": "stdout",
     "output_type": "stream",
     "text": [
      "\u001b[01;31m\u001b[KBra\u001b[m\u001b[Ksil \u001b[01;31m\u001b[KBra\u001b[m\u001b[Ksilia\n"
     ]
    }
   ],
   "source": [
    "egrep \"(Bra){1}\" archivo.txt "
   ]
  },
  {
   "cell_type": "markdown",
   "metadata": {},
   "source": [
    "Podemos utilizar un grupo de captura para buscar multiples apariciones de una cadena. Podemos crear grupos de expresiones regulares utilizando parentesis ()"
   ]
  },
  {
   "cell_type": "code",
   "execution_count": 66,
   "metadata": {},
   "outputs": [
    {
     "name": "stdout",
     "output_type": "stream",
     "text": [
      "\u001b[01;31m\u001b[KGuatemala Ciudad de Guatemala\u001b[m\u001b[K\n"
     ]
    }
   ],
   "source": [
    "egrep \"(Gua.+{1}){2}\" archivo.txt "
   ]
  },
  {
   "cell_type": "markdown",
   "metadata": {},
   "source": [
    "Podríamos combinar más cuantificadores y grupos de captura para idear expresiones regulares aún más complicadas"
   ]
  },
  {
   "cell_type": "markdown",
   "metadata": {},
   "source": [
    "### Conjunto de caracteres"
   ]
  },
  {
   "cell_type": "markdown",
   "metadata": {},
   "source": [
    "Existe expresiones regulares que permiten describir un conjunto de caracteres "
   ]
  },
  {
   "cell_type": "markdown",
   "metadata": {},
   "source": [
    "* \"\\w\" corresponde a todos las caracteres de palabras "
   ]
  },
  {
   "cell_type": "code",
   "execution_count": 68,
   "metadata": {},
   "outputs": [
    {
     "name": "stdout",
     "output_type": "stream",
     "text": [
      "\u001b[01;31m\u001b[KA\u001b[m\u001b[K\u001b[01;31m\u001b[Kn\u001b[m\u001b[K\u001b[01;31m\u001b[Kt\u001b[m\u001b[K\u001b[01;31m\u001b[Ki\u001b[m\u001b[K\u001b[01;31m\u001b[Kg\u001b[m\u001b[K\u001b[01;31m\u001b[Ku\u001b[m\u001b[K\u001b[01;31m\u001b[Ka\u001b[m\u001b[K \u001b[01;31m\u001b[Ky\u001b[m\u001b[K \u001b[01;31m\u001b[KB\u001b[m\u001b[K\u001b[01;31m\u001b[Ka\u001b[m\u001b[K\u001b[01;31m\u001b[Kr\u001b[m\u001b[K\u001b[01;31m\u001b[Kb\u001b[m\u001b[K\u001b[01;31m\u001b[Ku\u001b[m\u001b[K\u001b[01;31m\u001b[Kd\u001b[m\u001b[K\u001b[01;31m\u001b[Ka\u001b[m\u001b[K \u001b[01;31m\u001b[KS\u001b[m\u001b[K\u001b[01;31m\u001b[Ka\u001b[m\u001b[K\u001b[01;31m\u001b[Ki\u001b[m\u001b[K\u001b[01;31m\u001b[Kn\u001b[m\u001b[K\u001b[01;31m\u001b[Kt\u001b[m\u001b[K \u001b[01;31m\u001b[KJ\u001b[m\u001b[K\u001b[01;31m\u001b[Ko\u001b[m\u001b[K\u001b[01;31m\u001b[Kh\u001b[m\u001b[K\u001b[01;31m\u001b[Kn\u001b[m\u001b[K'\u001b[01;31m\u001b[Ks\u001b[m\u001b[K\n",
      "\u001b[01;31m\u001b[KA\u001b[m\u001b[K\u001b[01;31m\u001b[Kr\u001b[m\u001b[K\u001b[01;31m\u001b[Kg\u001b[m\u001b[K\u001b[01;31m\u001b[Ke\u001b[m\u001b[K\u001b[01;31m\u001b[Kn\u001b[m\u001b[K\u001b[01;31m\u001b[Kt\u001b[m\u001b[K\u001b[01;31m\u001b[Ki\u001b[m\u001b[K\u001b[01;31m\u001b[Kn\u001b[m\u001b[K\u001b[01;31m\u001b[Ka\u001b[m\u001b[K \u001b[01;31m\u001b[KB\u001b[m\u001b[K\u001b[01;31m\u001b[Ku\u001b[m\u001b[K\u001b[01;31m\u001b[Ke\u001b[m\u001b[K\u001b[01;31m\u001b[Kn\u001b[m\u001b[K\u001b[01;31m\u001b[Ko\u001b[m\u001b[K\u001b[01;31m\u001b[Ks\u001b[m\u001b[K \u001b[01;31m\u001b[KA\u001b[m\u001b[K\u001b[01;31m\u001b[Ki\u001b[m\u001b[K\u001b[01;31m\u001b[Kr\u001b[m\u001b[K\u001b[01;31m\u001b[Ke\u001b[m\u001b[K\u001b[01;31m\u001b[Ks\u001b[m\u001b[K\n",
      "\u001b[01;31m\u001b[KB\u001b[m\u001b[K\u001b[01;31m\u001b[Ka\u001b[m\u001b[K\u001b[01;31m\u001b[Kh\u001b[m\u001b[K\u001b[01;31m\u001b[Ka\u001b[m\u001b[K\u001b[01;31m\u001b[Km\u001b[m\u001b[K\u001b[01;31m\u001b[Ka\u001b[m\u001b[K\u001b[01;31m\u001b[Ks\u001b[m\u001b[K \u001b[01;31m\u001b[KN\u001b[m\u001b[K\u001b[01;31m\u001b[Ka\u001b[m\u001b[K\u001b[01;31m\u001b[Ks\u001b[m\u001b[K\u001b[01;31m\u001b[Ká\u001b[m\u001b[K\u001b[01;31m\u001b[Ku\u001b[m\u001b[K\n",
      "\u001b[01;31m\u001b[KB\u001b[m\u001b[K\u001b[01;31m\u001b[Ka\u001b[m\u001b[K\u001b[01;31m\u001b[Kr\u001b[m\u001b[K\u001b[01;31m\u001b[Kb\u001b[m\u001b[K\u001b[01;31m\u001b[Ka\u001b[m\u001b[K\u001b[01;31m\u001b[Kd\u001b[m\u001b[K\u001b[01;31m\u001b[Ko\u001b[m\u001b[K\u001b[01;31m\u001b[Ks\u001b[m\u001b[K \u001b[01;31m\u001b[KB\u001b[m\u001b[K\u001b[01;31m\u001b[Kr\u001b[m\u001b[K\u001b[01;31m\u001b[Ki\u001b[m\u001b[K\u001b[01;31m\u001b[Kd\u001b[m\u001b[K\u001b[01;31m\u001b[Kg\u001b[m\u001b[K\u001b[01;31m\u001b[Ke\u001b[m\u001b[K\u001b[01;31m\u001b[Kt\u001b[m\u001b[K\u001b[01;31m\u001b[Ko\u001b[m\u001b[K\u001b[01;31m\u001b[Kw\u001b[m\u001b[K\u001b[01;31m\u001b[Kn\u001b[m\u001b[K\n",
      "\u001b[01;31m\u001b[KB\u001b[m\u001b[K\u001b[01;31m\u001b[Ke\u001b[m\u001b[K\u001b[01;31m\u001b[Kl\u001b[m\u001b[K\u001b[01;31m\u001b[Ki\u001b[m\u001b[K\u001b[01;31m\u001b[Kc\u001b[m\u001b[K\u001b[01;31m\u001b[Ke\u001b[m\u001b[K \u001b[01;31m\u001b[KB\u001b[m\u001b[K\u001b[01;31m\u001b[Ke\u001b[m\u001b[K\u001b[01;31m\u001b[Kl\u001b[m\u001b[K\u001b[01;31m\u001b[Km\u001b[m\u001b[K\u001b[01;31m\u001b[Ko\u001b[m\u001b[K\u001b[01;31m\u001b[Kp\u001b[m\u001b[K\u001b[01;31m\u001b[Ká\u001b[m\u001b[K\u001b[01;31m\u001b[Kn\u001b[m\u001b[K\n",
      "\u001b[01;31m\u001b[KB\u001b[m\u001b[K\u001b[01;31m\u001b[Ko\u001b[m\u001b[K\u001b[01;31m\u001b[Kl\u001b[m\u001b[K\u001b[01;31m\u001b[Ki\u001b[m\u001b[K\u001b[01;31m\u001b[Kv\u001b[m\u001b[K\u001b[01;31m\u001b[Ki\u001b[m\u001b[K\u001b[01;31m\u001b[Ka\u001b[m\u001b[K \u001b[01;31m\u001b[KS\u001b[m\u001b[K\u001b[01;31m\u001b[Ku\u001b[m\u001b[K\u001b[01;31m\u001b[Kc\u001b[m\u001b[K\u001b[01;31m\u001b[Kr\u001b[m\u001b[K\u001b[01;31m\u001b[Ke\u001b[m\u001b[K\n",
      "\u001b[01;31m\u001b[KB\u001b[m\u001b[K\u001b[01;31m\u001b[Kr\u001b[m\u001b[K\u001b[01;31m\u001b[Ka\u001b[m\u001b[K\u001b[01;31m\u001b[Ks\u001b[m\u001b[K\u001b[01;31m\u001b[Ki\u001b[m\u001b[K\u001b[01;31m\u001b[Kl\u001b[m\u001b[K \u001b[01;31m\u001b[KB\u001b[m\u001b[K\u001b[01;31m\u001b[Kr\u001b[m\u001b[K\u001b[01;31m\u001b[Ka\u001b[m\u001b[K\u001b[01;31m\u001b[Ks\u001b[m\u001b[K\u001b[01;31m\u001b[Ki\u001b[m\u001b[K\u001b[01;31m\u001b[Kl\u001b[m\u001b[K\u001b[01;31m\u001b[Ki\u001b[m\u001b[K\u001b[01;31m\u001b[Ka\u001b[m\u001b[K\n",
      "\u001b[01;31m\u001b[KC\u001b[m\u001b[K\u001b[01;31m\u001b[Ka\u001b[m\u001b[K\u001b[01;31m\u001b[Kn\u001b[m\u001b[K\u001b[01;31m\u001b[Ka\u001b[m\u001b[K\u001b[01;31m\u001b[Kd\u001b[m\u001b[K\u001b[01;31m\u001b[Ká\u001b[m\u001b[K \u001b[01;31m\u001b[KO\u001b[m\u001b[K\u001b[01;31m\u001b[Kt\u001b[m\u001b[K\u001b[01;31m\u001b[Kt\u001b[m\u001b[K\u001b[01;31m\u001b[Ka\u001b[m\u001b[K\u001b[01;31m\u001b[Kw\u001b[m\u001b[K\u001b[01;31m\u001b[Ka\u001b[m\u001b[K\n",
      "\u001b[01;31m\u001b[KC\u001b[m\u001b[K\u001b[01;31m\u001b[Kh\u001b[m\u001b[K\u001b[01;31m\u001b[Ki\u001b[m\u001b[K\u001b[01;31m\u001b[Kl\u001b[m\u001b[K\u001b[01;31m\u001b[Ke\u001b[m\u001b[K \u001b[01;31m\u001b[KS\u001b[m\u001b[K\u001b[01;31m\u001b[Ka\u001b[m\u001b[K\u001b[01;31m\u001b[Kn\u001b[m\u001b[K\u001b[01;31m\u001b[Kt\u001b[m\u001b[K\u001b[01;31m\u001b[Ki\u001b[m\u001b[K\u001b[01;31m\u001b[Ka\u001b[m\u001b[K\u001b[01;31m\u001b[Kg\u001b[m\u001b[K\u001b[01;31m\u001b[Ko\u001b[m\u001b[K \u001b[01;31m\u001b[Kd\u001b[m\u001b[K\u001b[01;31m\u001b[Ke\u001b[m\u001b[K \u001b[01;31m\u001b[KC\u001b[m\u001b[K\u001b[01;31m\u001b[Kh\u001b[m\u001b[K\u001b[01;31m\u001b[Ki\u001b[m\u001b[K\u001b[01;31m\u001b[Kl\u001b[m\u001b[K\u001b[01;31m\u001b[Ke\u001b[m\u001b[K\n",
      "\u001b[01;31m\u001b[KC\u001b[m\u001b[K\u001b[01;31m\u001b[Ko\u001b[m\u001b[K\u001b[01;31m\u001b[Kl\u001b[m\u001b[K\u001b[01;31m\u001b[Ko\u001b[m\u001b[K\u001b[01;31m\u001b[Km\u001b[m\u001b[K\u001b[01;31m\u001b[Kb\u001b[m\u001b[K\u001b[01;31m\u001b[Ki\u001b[m\u001b[K\u001b[01;31m\u001b[Ka\u001b[m\u001b[K \u001b[01;31m\u001b[KB\u001b[m\u001b[K\u001b[01;31m\u001b[Ko\u001b[m\u001b[K\u001b[01;31m\u001b[Kg\u001b[m\u001b[K\u001b[01;31m\u001b[Ko\u001b[m\u001b[K\u001b[01;31m\u001b[Kt\u001b[m\u001b[K\u001b[01;31m\u001b[Ká\u001b[m\u001b[K\n",
      "\u001b[01;31m\u001b[KC\u001b[m\u001b[K\u001b[01;31m\u001b[Ko\u001b[m\u001b[K\u001b[01;31m\u001b[Ks\u001b[m\u001b[K\u001b[01;31m\u001b[Kt\u001b[m\u001b[K\u001b[01;31m\u001b[Ka\u001b[m\u001b[K \u001b[01;31m\u001b[KR\u001b[m\u001b[K\u001b[01;31m\u001b[Ki\u001b[m\u001b[K\u001b[01;31m\u001b[Kc\u001b[m\u001b[K\u001b[01;31m\u001b[Ka\u001b[m\u001b[K \u001b[01;31m\u001b[KS\u001b[m\u001b[K\u001b[01;31m\u001b[Ka\u001b[m\u001b[K\u001b[01;31m\u001b[Kn\u001b[m\u001b[K \u001b[01;31m\u001b[KJ\u001b[m\u001b[K\u001b[01;31m\u001b[Ko\u001b[m\u001b[K\u001b[01;31m\u001b[Ks\u001b[m\u001b[K\u001b[01;31m\u001b[Ké\u001b[m\u001b[K\n",
      "\u001b[01;31m\u001b[KC\u001b[m\u001b[K\u001b[01;31m\u001b[Ku\u001b[m\u001b[K\u001b[01;31m\u001b[Kb\u001b[m\u001b[K\u001b[01;31m\u001b[Ka\u001b[m\u001b[K \u001b[01;31m\u001b[KL\u001b[m\u001b[K\u001b[01;31m\u001b[Ka\u001b[m\u001b[K \u001b[01;31m\u001b[KH\u001b[m\u001b[K\u001b[01;31m\u001b[Ka\u001b[m\u001b[K\u001b[01;31m\u001b[Kb\u001b[m\u001b[K\u001b[01;31m\u001b[Ka\u001b[m\u001b[K\u001b[01;31m\u001b[Kn\u001b[m\u001b[K\u001b[01;31m\u001b[Ka\u001b[m\u001b[K\n",
      "\u001b[01;31m\u001b[KD\u001b[m\u001b[K\u001b[01;31m\u001b[Ko\u001b[m\u001b[K\u001b[01;31m\u001b[Km\u001b[m\u001b[K\u001b[01;31m\u001b[Ki\u001b[m\u001b[K\u001b[01;31m\u001b[Kn\u001b[m\u001b[K\u001b[01;31m\u001b[Ki\u001b[m\u001b[K\u001b[01;31m\u001b[Kc\u001b[m\u001b[K\u001b[01;31m\u001b[Ka\u001b[m\u001b[K \u001b[01;31m\u001b[KR\u001b[m\u001b[K\u001b[01;31m\u001b[Ko\u001b[m\u001b[K\u001b[01;31m\u001b[Ks\u001b[m\u001b[K\u001b[01;31m\u001b[Ke\u001b[m\u001b[K\u001b[01;31m\u001b[Ka\u001b[m\u001b[K\u001b[01;31m\u001b[Ku\u001b[m\u001b[K\n",
      "\u001b[01;31m\u001b[KE\u001b[m\u001b[K\u001b[01;31m\u001b[Kc\u001b[m\u001b[K\u001b[01;31m\u001b[Ku\u001b[m\u001b[K\u001b[01;31m\u001b[Ka\u001b[m\u001b[K\u001b[01;31m\u001b[Kd\u001b[m\u001b[K\u001b[01;31m\u001b[Ko\u001b[m\u001b[K\u001b[01;31m\u001b[Kr\u001b[m\u001b[K \u001b[01;31m\u001b[KQ\u001b[m\u001b[K\u001b[01;31m\u001b[Ku\u001b[m\u001b[K\u001b[01;31m\u001b[Ki\u001b[m\u001b[K\u001b[01;31m\u001b[Kt\u001b[m\u001b[K\u001b[01;31m\u001b[Ko\u001b[m\u001b[K\n",
      "\u001b[01;31m\u001b[KE\u001b[m\u001b[K\u001b[01;31m\u001b[Kl\u001b[m\u001b[K \u001b[01;31m\u001b[KS\u001b[m\u001b[K\u001b[01;31m\u001b[Ka\u001b[m\u001b[K\u001b[01;31m\u001b[Kl\u001b[m\u001b[K\u001b[01;31m\u001b[Kv\u001b[m\u001b[K\u001b[01;31m\u001b[Ka\u001b[m\u001b[K\u001b[01;31m\u001b[Kd\u001b[m\u001b[K\u001b[01;31m\u001b[Ko\u001b[m\u001b[K\u001b[01;31m\u001b[Kr\u001b[m\u001b[K \u001b[01;31m\u001b[KS\u001b[m\u001b[K\u001b[01;31m\u001b[Ka\u001b[m\u001b[K\u001b[01;31m\u001b[Kn\u001b[m\u001b[K \u001b[01;31m\u001b[KS\u001b[m\u001b[K\u001b[01;31m\u001b[Ka\u001b[m\u001b[K\u001b[01;31m\u001b[Kl\u001b[m\u001b[K\u001b[01;31m\u001b[Kv\u001b[m\u001b[K\u001b[01;31m\u001b[Ka\u001b[m\u001b[K\u001b[01;31m\u001b[Kd\u001b[m\u001b[K\u001b[01;31m\u001b[Ko\u001b[m\u001b[K\u001b[01;31m\u001b[Kr\u001b[m\u001b[K\n",
      "\u001b[01;31m\u001b[KE\u001b[m\u001b[K\u001b[01;31m\u001b[Ks\u001b[m\u001b[K\u001b[01;31m\u001b[Kt\u001b[m\u001b[K\u001b[01;31m\u001b[Ka\u001b[m\u001b[K\u001b[01;31m\u001b[Kd\u001b[m\u001b[K\u001b[01;31m\u001b[Ko\u001b[m\u001b[K\u001b[01;31m\u001b[Ks\u001b[m\u001b[K \u001b[01;31m\u001b[KU\u001b[m\u001b[K\u001b[01;31m\u001b[Kn\u001b[m\u001b[K\u001b[01;31m\u001b[Ki\u001b[m\u001b[K\u001b[01;31m\u001b[Kd\u001b[m\u001b[K\u001b[01;31m\u001b[Ko\u001b[m\u001b[K\u001b[01;31m\u001b[Ks\u001b[m\u001b[K \u001b[01;31m\u001b[KW\u001b[m\u001b[K\u001b[01;31m\u001b[Ka\u001b[m\u001b[K\u001b[01;31m\u001b[Ks\u001b[m\u001b[K\u001b[01;31m\u001b[Kh\u001b[m\u001b[K\u001b[01;31m\u001b[Ki\u001b[m\u001b[K\u001b[01;31m\u001b[Kn\u001b[m\u001b[K\u001b[01;31m\u001b[Kg\u001b[m\u001b[K\u001b[01;31m\u001b[Kt\u001b[m\u001b[K\u001b[01;31m\u001b[Ko\u001b[m\u001b[K\u001b[01;31m\u001b[Kn\u001b[m\u001b[K \u001b[01;31m\u001b[KD\u001b[m\u001b[K. \u001b[01;31m\u001b[KC\u001b[m\u001b[K.\n",
      "\u001b[01;31m\u001b[KG\u001b[m\u001b[K\u001b[01;31m\u001b[Kr\u001b[m\u001b[K\u001b[01;31m\u001b[Ka\u001b[m\u001b[K\u001b[01;31m\u001b[Kn\u001b[m\u001b[K\u001b[01;31m\u001b[Ka\u001b[m\u001b[K\u001b[01;31m\u001b[Kd\u001b[m\u001b[K\u001b[01;31m\u001b[Ka\u001b[m\u001b[K \u001b[01;31m\u001b[KS\u001b[m\u001b[K\u001b[01;31m\u001b[Ka\u001b[m\u001b[K\u001b[01;31m\u001b[Ki\u001b[m\u001b[K\u001b[01;31m\u001b[Kn\u001b[m\u001b[K\u001b[01;31m\u001b[Kt\u001b[m\u001b[K \u001b[01;31m\u001b[KG\u001b[m\u001b[K\u001b[01;31m\u001b[Ke\u001b[m\u001b[K\u001b[01;31m\u001b[Ko\u001b[m\u001b[K\u001b[01;31m\u001b[Kr\u001b[m\u001b[K\u001b[01;31m\u001b[Kg\u001b[m\u001b[K\u001b[01;31m\u001b[Ke\u001b[m\u001b[K\n",
      "\u001b[01;31m\u001b[KG\u001b[m\u001b[K\u001b[01;31m\u001b[Ku\u001b[m\u001b[K\u001b[01;31m\u001b[Ka\u001b[m\u001b[K\u001b[01;31m\u001b[Kt\u001b[m\u001b[K\u001b[01;31m\u001b[Ke\u001b[m\u001b[K\u001b[01;31m\u001b[Km\u001b[m\u001b[K\u001b[01;31m\u001b[Ka\u001b[m\u001b[K\u001b[01;31m\u001b[Kl\u001b[m\u001b[K\u001b[01;31m\u001b[Ka\u001b[m\u001b[K \u001b[01;31m\u001b[KC\u001b[m\u001b[K\u001b[01;31m\u001b[Ki\u001b[m\u001b[K\u001b[01;31m\u001b[Ku\u001b[m\u001b[K\u001b[01;31m\u001b[Kd\u001b[m\u001b[K\u001b[01;31m\u001b[Ka\u001b[m\u001b[K\u001b[01;31m\u001b[Kd\u001b[m\u001b[K \u001b[01;31m\u001b[Kd\u001b[m\u001b[K\u001b[01;31m\u001b[Ke\u001b[m\u001b[K \u001b[01;31m\u001b[KG\u001b[m\u001b[K\u001b[01;31m\u001b[Ku\u001b[m\u001b[K\u001b[01;31m\u001b[Ka\u001b[m\u001b[K\u001b[01;31m\u001b[Kt\u001b[m\u001b[K\u001b[01;31m\u001b[Ke\u001b[m\u001b[K\u001b[01;31m\u001b[Km\u001b[m\u001b[K\u001b[01;31m\u001b[Ka\u001b[m\u001b[K\u001b[01;31m\u001b[Kl\u001b[m\u001b[K\u001b[01;31m\u001b[Ka\u001b[m\u001b[K\n",
      "\u001b[01;31m\u001b[KG\u001b[m\u001b[K\u001b[01;31m\u001b[Ku\u001b[m\u001b[K\u001b[01;31m\u001b[Ky\u001b[m\u001b[K\u001b[01;31m\u001b[Ka\u001b[m\u001b[K\u001b[01;31m\u001b[Kn\u001b[m\u001b[K\u001b[01;31m\u001b[Ka\u001b[m\u001b[K \u001b[01;31m\u001b[KG\u001b[m\u001b[K\u001b[01;31m\u001b[Ke\u001b[m\u001b[K\u001b[01;31m\u001b[Ko\u001b[m\u001b[K\u001b[01;31m\u001b[Kr\u001b[m\u001b[K\u001b[01;31m\u001b[Kg\u001b[m\u001b[K\u001b[01;31m\u001b[Ke\u001b[m\u001b[K\u001b[01;31m\u001b[Kt\u001b[m\u001b[K\u001b[01;31m\u001b[Ko\u001b[m\u001b[K\u001b[01;31m\u001b[Kw\u001b[m\u001b[K\u001b[01;31m\u001b[Kn\u001b[m\u001b[K\n",
      "\u001b[01;31m\u001b[KH\u001b[m\u001b[K\u001b[01;31m\u001b[Ka\u001b[m\u001b[K\u001b[01;31m\u001b[Ki\u001b[m\u001b[K\u001b[01;31m\u001b[Kt\u001b[m\u001b[K\u001b[01;31m\u001b[Kí\u001b[m\u001b[K \u001b[01;31m\u001b[KP\u001b[m\u001b[K\u001b[01;31m\u001b[Ku\u001b[m\u001b[K\u001b[01;31m\u001b[Ke\u001b[m\u001b[K\u001b[01;31m\u001b[Kr\u001b[m\u001b[K\u001b[01;31m\u001b[Kt\u001b[m\u001b[K\u001b[01;31m\u001b[Ko\u001b[m\u001b[K \u001b[01;31m\u001b[KP\u001b[m\u001b[K\u001b[01;31m\u001b[Kr\u001b[m\u001b[K\u001b[01;31m\u001b[Kí\u001b[m\u001b[K\u001b[01;31m\u001b[Kn\u001b[m\u001b[K\u001b[01;31m\u001b[Kc\u001b[m\u001b[K\u001b[01;31m\u001b[Ki\u001b[m\u001b[K\u001b[01;31m\u001b[Kp\u001b[m\u001b[K\u001b[01;31m\u001b[Ke\u001b[m\u001b[K\n",
      "\u001b[01;31m\u001b[KH\u001b[m\u001b[K\u001b[01;31m\u001b[Ko\u001b[m\u001b[K\u001b[01;31m\u001b[Kn\u001b[m\u001b[K\u001b[01;31m\u001b[Kd\u001b[m\u001b[K\u001b[01;31m\u001b[Ku\u001b[m\u001b[K\u001b[01;31m\u001b[Kr\u001b[m\u001b[K\u001b[01;31m\u001b[Ka\u001b[m\u001b[K\u001b[01;31m\u001b[Ks\u001b[m\u001b[K \u001b[01;31m\u001b[KT\u001b[m\u001b[K\u001b[01;31m\u001b[Ke\u001b[m\u001b[K\u001b[01;31m\u001b[Kg\u001b[m\u001b[K\u001b[01;31m\u001b[Ku\u001b[m\u001b[K\u001b[01;31m\u001b[Kc\u001b[m\u001b[K\u001b[01;31m\u001b[Ki\u001b[m\u001b[K\u001b[01;31m\u001b[Kg\u001b[m\u001b[K\u001b[01;31m\u001b[Ka\u001b[m\u001b[K\u001b[01;31m\u001b[Kl\u001b[m\u001b[K\u001b[01;31m\u001b[Kp\u001b[m\u001b[K\u001b[01;31m\u001b[Ka\u001b[m\u001b[K\n",
      "\u001b[01;31m\u001b[KJ\u001b[m\u001b[K\u001b[01;31m\u001b[Ka\u001b[m\u001b[K\u001b[01;31m\u001b[Km\u001b[m\u001b[K\u001b[01;31m\u001b[Ka\u001b[m\u001b[K\u001b[01;31m\u001b[Ki\u001b[m\u001b[K\u001b[01;31m\u001b[Kc\u001b[m\u001b[K\u001b[01;31m\u001b[Ka\u001b[m\u001b[K \u001b[01;31m\u001b[KK\u001b[m\u001b[K\u001b[01;31m\u001b[Ki\u001b[m\u001b[K\u001b[01;31m\u001b[Kn\u001b[m\u001b[K\u001b[01;31m\u001b[Kg\u001b[m\u001b[K\u001b[01;31m\u001b[Ks\u001b[m\u001b[K\u001b[01;31m\u001b[Kt\u001b[m\u001b[K\u001b[01;31m\u001b[Ko\u001b[m\u001b[K\u001b[01;31m\u001b[Kn\u001b[m\u001b[K\n",
      "\u001b[01;31m\u001b[KM\u001b[m\u001b[K\u001b[01;31m\u001b[Ké\u001b[m\u001b[K\u001b[01;31m\u001b[Kx\u001b[m\u001b[K\u001b[01;31m\u001b[Ki\u001b[m\u001b[K\u001b[01;31m\u001b[Kc\u001b[m\u001b[K\u001b[01;31m\u001b[Ko\u001b[m\u001b[K \u001b[01;31m\u001b[KC\u001b[m\u001b[K\u001b[01;31m\u001b[Ki\u001b[m\u001b[K\u001b[01;31m\u001b[Ku\u001b[m\u001b[K\u001b[01;31m\u001b[Kd\u001b[m\u001b[K\u001b[01;31m\u001b[Ka\u001b[m\u001b[K\u001b[01;31m\u001b[Kd\u001b[m\u001b[K \u001b[01;31m\u001b[Kd\u001b[m\u001b[K\u001b[01;31m\u001b[Ke\u001b[m\u001b[K \u001b[01;31m\u001b[KM\u001b[m\u001b[K\u001b[01;31m\u001b[Ké\u001b[m\u001b[K\u001b[01;31m\u001b[Kx\u001b[m\u001b[K\u001b[01;31m\u001b[Ki\u001b[m\u001b[K\u001b[01;31m\u001b[Kc\u001b[m\u001b[K\u001b[01;31m\u001b[Ko\u001b[m\u001b[K\n",
      "\u001b[01;31m\u001b[KN\u001b[m\u001b[K\u001b[01;31m\u001b[Ki\u001b[m\u001b[K\u001b[01;31m\u001b[Kc\u001b[m\u001b[K\u001b[01;31m\u001b[Ka\u001b[m\u001b[K\u001b[01;31m\u001b[Kr\u001b[m\u001b[K\u001b[01;31m\u001b[Ka\u001b[m\u001b[K\u001b[01;31m\u001b[Kg\u001b[m\u001b[K\u001b[01;31m\u001b[Ku\u001b[m\u001b[K\u001b[01;31m\u001b[Ka\u001b[m\u001b[K \u001b[01;31m\u001b[KM\u001b[m\u001b[K\u001b[01;31m\u001b[Ka\u001b[m\u001b[K\u001b[01;31m\u001b[Kn\u001b[m\u001b[K\u001b[01;31m\u001b[Ka\u001b[m\u001b[K\u001b[01;31m\u001b[Kg\u001b[m\u001b[K\u001b[01;31m\u001b[Ku\u001b[m\u001b[K\u001b[01;31m\u001b[Ka\u001b[m\u001b[K\n",
      "\u001b[01;31m\u001b[KP\u001b[m\u001b[K\u001b[01;31m\u001b[Ka\u001b[m\u001b[K\u001b[01;31m\u001b[Kn\u001b[m\u001b[K\u001b[01;31m\u001b[Ka\u001b[m\u001b[K\u001b[01;31m\u001b[Km\u001b[m\u001b[K\u001b[01;31m\u001b[Ká\u001b[m\u001b[K \u001b[01;31m\u001b[KP\u001b[m\u001b[K\u001b[01;31m\u001b[Ka\u001b[m\u001b[K\u001b[01;31m\u001b[Kn\u001b[m\u001b[K\u001b[01;31m\u001b[Ka\u001b[m\u001b[K\u001b[01;31m\u001b[Km\u001b[m\u001b[K\u001b[01;31m\u001b[Ká\u001b[m\u001b[K\n",
      "\u001b[01;31m\u001b[KP\u001b[m\u001b[K\u001b[01;31m\u001b[Ka\u001b[m\u001b[K\u001b[01;31m\u001b[Kr\u001b[m\u001b[K\u001b[01;31m\u001b[Ka\u001b[m\u001b[K\u001b[01;31m\u001b[Kg\u001b[m\u001b[K\u001b[01;31m\u001b[Ku\u001b[m\u001b[K\u001b[01;31m\u001b[Ka\u001b[m\u001b[K\u001b[01;31m\u001b[Ky\u001b[m\u001b[K \u001b[01;31m\u001b[KA\u001b[m\u001b[K\u001b[01;31m\u001b[Ks\u001b[m\u001b[K\u001b[01;31m\u001b[Ku\u001b[m\u001b[K\u001b[01;31m\u001b[Kn\u001b[m\u001b[K\u001b[01;31m\u001b[Kc\u001b[m\u001b[K\u001b[01;31m\u001b[Ki\u001b[m\u001b[K\u001b[01;31m\u001b[Kó\u001b[m\u001b[K\u001b[01;31m\u001b[Kn\u001b[m\u001b[K\n",
      "\u001b[01;31m\u001b[KP\u001b[m\u001b[K\u001b[01;31m\u001b[Ke\u001b[m\u001b[K\u001b[01;31m\u001b[Kr\u001b[m\u001b[K\u001b[01;31m\u001b[Kú\u001b[m\u001b[K \u001b[01;31m\u001b[KL\u001b[m\u001b[K\u001b[01;31m\u001b[Ki\u001b[m\u001b[K\u001b[01;31m\u001b[Km\u001b[m\u001b[K\u001b[01;31m\u001b[Ka\u001b[m\u001b[K\n",
      "\u001b[01;31m\u001b[KR\u001b[m\u001b[K\u001b[01;31m\u001b[Ke\u001b[m\u001b[K\u001b[01;31m\u001b[Kp\u001b[m\u001b[K\u001b[01;31m\u001b[Kú\u001b[m\u001b[K\u001b[01;31m\u001b[Kb\u001b[m\u001b[K\u001b[01;31m\u001b[Kl\u001b[m\u001b[K\u001b[01;31m\u001b[Ki\u001b[m\u001b[K\u001b[01;31m\u001b[Kc\u001b[m\u001b[K\u001b[01;31m\u001b[Ka\u001b[m\u001b[K \u001b[01;31m\u001b[KD\u001b[m\u001b[K\u001b[01;31m\u001b[Ko\u001b[m\u001b[K\u001b[01;31m\u001b[Km\u001b[m\u001b[K\u001b[01;31m\u001b[Ki\u001b[m\u001b[K\u001b[01;31m\u001b[Kn\u001b[m\u001b[K\u001b[01;31m\u001b[Ki\u001b[m\u001b[K\u001b[01;31m\u001b[Kc\u001b[m\u001b[K\u001b[01;31m\u001b[Ka\u001b[m\u001b[K\u001b[01;31m\u001b[Kn\u001b[m\u001b[K\u001b[01;31m\u001b[Ka\u001b[m\u001b[K \u001b[01;31m\u001b[KS\u001b[m\u001b[K\u001b[01;31m\u001b[Ka\u001b[m\u001b[K\u001b[01;31m\u001b[Kn\u001b[m\u001b[K\u001b[01;31m\u001b[Kt\u001b[m\u001b[K\u001b[01;31m\u001b[Ko\u001b[m\u001b[K \u001b[01;31m\u001b[KD\u001b[m\u001b[K\u001b[01;31m\u001b[Ko\u001b[m\u001b[K\u001b[01;31m\u001b[Km\u001b[m\u001b[K\u001b[01;31m\u001b[Ki\u001b[m\u001b[K\u001b[01;31m\u001b[Kn\u001b[m\u001b[K\u001b[01;31m\u001b[Kg\u001b[m\u001b[K\u001b[01;31m\u001b[Ko\u001b[m\u001b[K\n",
      "\u001b[01;31m\u001b[KS\u001b[m\u001b[K\u001b[01;31m\u001b[Ka\u001b[m\u001b[K\u001b[01;31m\u001b[Kn\u001b[m\u001b[K \u001b[01;31m\u001b[KC\u001b[m\u001b[K\u001b[01;31m\u001b[Kr\u001b[m\u001b[K\u001b[01;31m\u001b[Ki\u001b[m\u001b[K\u001b[01;31m\u001b[Ks\u001b[m\u001b[K\u001b[01;31m\u001b[Kt\u001b[m\u001b[K\u001b[01;31m\u001b[Kó\u001b[m\u001b[K\u001b[01;31m\u001b[Kb\u001b[m\u001b[K\u001b[01;31m\u001b[Ka\u001b[m\u001b[K\u001b[01;31m\u001b[Kl\u001b[m\u001b[K \u001b[01;31m\u001b[Ky\u001b[m\u001b[K \u001b[01;31m\u001b[KN\u001b[m\u001b[K\u001b[01;31m\u001b[Ki\u001b[m\u001b[K\u001b[01;31m\u001b[Ke\u001b[m\u001b[K\u001b[01;31m\u001b[Kv\u001b[m\u001b[K\u001b[01;31m\u001b[Ke\u001b[m\u001b[K\u001b[01;31m\u001b[Ks\u001b[m\u001b[K \u001b[01;31m\u001b[KB\u001b[m\u001b[K\u001b[01;31m\u001b[Ka\u001b[m\u001b[K\u001b[01;31m\u001b[Ks\u001b[m\u001b[K\u001b[01;31m\u001b[Ks\u001b[m\u001b[K\u001b[01;31m\u001b[Ke\u001b[m\u001b[K\u001b[01;31m\u001b[Kt\u001b[m\u001b[K\u001b[01;31m\u001b[Ke\u001b[m\u001b[K\u001b[01;31m\u001b[Kr\u001b[m\u001b[K\u001b[01;31m\u001b[Kr\u001b[m\u001b[K\u001b[01;31m\u001b[Ke\u001b[m\u001b[K\n",
      "\u001b[01;31m\u001b[KS\u001b[m\u001b[K\u001b[01;31m\u001b[Ka\u001b[m\u001b[K\u001b[01;31m\u001b[Kn\u001b[m\u001b[K \u001b[01;31m\u001b[KV\u001b[m\u001b[K\u001b[01;31m\u001b[Ki\u001b[m\u001b[K\u001b[01;31m\u001b[Kc\u001b[m\u001b[K\u001b[01;31m\u001b[Ke\u001b[m\u001b[K\u001b[01;31m\u001b[Kn\u001b[m\u001b[K\u001b[01;31m\u001b[Kt\u001b[m\u001b[K\u001b[01;31m\u001b[Ke\u001b[m\u001b[K \u001b[01;31m\u001b[Ky\u001b[m\u001b[K \u001b[01;31m\u001b[Kl\u001b[m\u001b[K\u001b[01;31m\u001b[Ka\u001b[m\u001b[K\u001b[01;31m\u001b[Ks\u001b[m\u001b[K \u001b[01;31m\u001b[KG\u001b[m\u001b[K\u001b[01;31m\u001b[Kr\u001b[m\u001b[K\u001b[01;31m\u001b[Ka\u001b[m\u001b[K\u001b[01;31m\u001b[Kn\u001b[m\u001b[K\u001b[01;31m\u001b[Ka\u001b[m\u001b[K\u001b[01;31m\u001b[Kd\u001b[m\u001b[K\u001b[01;31m\u001b[Ki\u001b[m\u001b[K\u001b[01;31m\u001b[Kn\u001b[m\u001b[K\u001b[01;31m\u001b[Ka\u001b[m\u001b[K\u001b[01;31m\u001b[Ks\u001b[m\u001b[K \u001b[01;31m\u001b[KK\u001b[m\u001b[K\u001b[01;31m\u001b[Ki\u001b[m\u001b[K\u001b[01;31m\u001b[Kn\u001b[m\u001b[K\u001b[01;31m\u001b[Kg\u001b[m\u001b[K\u001b[01;31m\u001b[Ks\u001b[m\u001b[K\u001b[01;31m\u001b[Kt\u001b[m\u001b[K\u001b[01;31m\u001b[Ko\u001b[m\u001b[K\u001b[01;31m\u001b[Kw\u001b[m\u001b[K\u001b[01;31m\u001b[Kn\u001b[m\u001b[K\n",
      "\u001b[01;31m\u001b[KS\u001b[m\u001b[K\u001b[01;31m\u001b[Ka\u001b[m\u001b[K\u001b[01;31m\u001b[Kn\u001b[m\u001b[K\u001b[01;31m\u001b[Kt\u001b[m\u001b[K\u001b[01;31m\u001b[Ka\u001b[m\u001b[K \u001b[01;31m\u001b[KL\u001b[m\u001b[K\u001b[01;31m\u001b[Ku\u001b[m\u001b[K\u001b[01;31m\u001b[Kc\u001b[m\u001b[K\u001b[01;31m\u001b[Kí\u001b[m\u001b[K\u001b[01;31m\u001b[Ka\u001b[m\u001b[K \u001b[01;31m\u001b[KC\u001b[m\u001b[K\u001b[01;31m\u001b[Ka\u001b[m\u001b[K\u001b[01;31m\u001b[Ks\u001b[m\u001b[K\u001b[01;31m\u001b[Kt\u001b[m\u001b[K\u001b[01;31m\u001b[Kr\u001b[m\u001b[K\u001b[01;31m\u001b[Ki\u001b[m\u001b[K\u001b[01;31m\u001b[Ke\u001b[m\u001b[K\u001b[01;31m\u001b[Ks\u001b[m\u001b[K\n",
      "\u001b[01;31m\u001b[KS\u001b[m\u001b[K\u001b[01;31m\u001b[Ku\u001b[m\u001b[K\u001b[01;31m\u001b[Kr\u001b[m\u001b[K\u001b[01;31m\u001b[Ki\u001b[m\u001b[K\u001b[01;31m\u001b[Kn\u001b[m\u001b[K\u001b[01;31m\u001b[Ka\u001b[m\u001b[K\u001b[01;31m\u001b[Km\u001b[m\u001b[K \u001b[01;31m\u001b[KP\u001b[m\u001b[K\u001b[01;31m\u001b[Ka\u001b[m\u001b[K\u001b[01;31m\u001b[Kr\u001b[m\u001b[K\u001b[01;31m\u001b[Ka\u001b[m\u001b[K\u001b[01;31m\u001b[Km\u001b[m\u001b[K\u001b[01;31m\u001b[Ka\u001b[m\u001b[K\u001b[01;31m\u001b[Kr\u001b[m\u001b[K\u001b[01;31m\u001b[Ki\u001b[m\u001b[K\u001b[01;31m\u001b[Kb\u001b[m\u001b[K\u001b[01;31m\u001b[Ko\u001b[m\u001b[K\n",
      "\u001b[01;31m\u001b[KT\u001b[m\u001b[K\u001b[01;31m\u001b[Kr\u001b[m\u001b[K\u001b[01;31m\u001b[Ki\u001b[m\u001b[K\u001b[01;31m\u001b[Kn\u001b[m\u001b[K\u001b[01;31m\u001b[Ki\u001b[m\u001b[K\u001b[01;31m\u001b[Kd\u001b[m\u001b[K\u001b[01;31m\u001b[Ka\u001b[m\u001b[K\u001b[01;31m\u001b[Kd\u001b[m\u001b[K \u001b[01;31m\u001b[Ky\u001b[m\u001b[K \u001b[01;31m\u001b[KT\u001b[m\u001b[K\u001b[01;31m\u001b[Ko\u001b[m\u001b[K\u001b[01;31m\u001b[Kb\u001b[m\u001b[K\u001b[01;31m\u001b[Ka\u001b[m\u001b[K\u001b[01;31m\u001b[Kg\u001b[m\u001b[K\u001b[01;31m\u001b[Ko\u001b[m\u001b[K \u001b[01;31m\u001b[KP\u001b[m\u001b[K\u001b[01;31m\u001b[Ku\u001b[m\u001b[K\u001b[01;31m\u001b[Ke\u001b[m\u001b[K\u001b[01;31m\u001b[Kr\u001b[m\u001b[K\u001b[01;31m\u001b[Kt\u001b[m\u001b[K\u001b[01;31m\u001b[Ko\u001b[m\u001b[K \u001b[01;31m\u001b[KE\u001b[m\u001b[K\u001b[01;31m\u001b[Ks\u001b[m\u001b[K\u001b[01;31m\u001b[Kp\u001b[m\u001b[K\u001b[01;31m\u001b[Ka\u001b[m\u001b[K\u001b[01;31m\u001b[Kñ\u001b[m\u001b[K\u001b[01;31m\u001b[Ka\u001b[m\u001b[K\n",
      "\u001b[01;31m\u001b[KU\u001b[m\u001b[K\u001b[01;31m\u001b[Kr\u001b[m\u001b[K\u001b[01;31m\u001b[Ku\u001b[m\u001b[K\u001b[01;31m\u001b[Kg\u001b[m\u001b[K\u001b[01;31m\u001b[Ku\u001b[m\u001b[K\u001b[01;31m\u001b[Ka\u001b[m\u001b[K\u001b[01;31m\u001b[Ky\u001b[m\u001b[K \u001b[01;31m\u001b[KM\u001b[m\u001b[K\u001b[01;31m\u001b[Ko\u001b[m\u001b[K\u001b[01;31m\u001b[Kn\u001b[m\u001b[K\u001b[01;31m\u001b[Kt\u001b[m\u001b[K\u001b[01;31m\u001b[Ke\u001b[m\u001b[K\u001b[01;31m\u001b[Kv\u001b[m\u001b[K\u001b[01;31m\u001b[Ki\u001b[m\u001b[K\u001b[01;31m\u001b[Kd\u001b[m\u001b[K\u001b[01;31m\u001b[Ke\u001b[m\u001b[K\u001b[01;31m\u001b[Ko\u001b[m\u001b[K\n",
      "\u001b[01;31m\u001b[KV\u001b[m\u001b[K\u001b[01;31m\u001b[Ke\u001b[m\u001b[K\u001b[01;31m\u001b[Kn\u001b[m\u001b[K\u001b[01;31m\u001b[Ke\u001b[m\u001b[K\u001b[01;31m\u001b[Kz\u001b[m\u001b[K\u001b[01;31m\u001b[Ku\u001b[m\u001b[K\u001b[01;31m\u001b[Ke\u001b[m\u001b[K\u001b[01;31m\u001b[Kl\u001b[m\u001b[K\u001b[01;31m\u001b[Ka\u001b[m\u001b[K \u001b[01;31m\u001b[KC\u001b[m\u001b[K\u001b[01;31m\u001b[Ka\u001b[m\u001b[K\u001b[01;31m\u001b[Kr\u001b[m\u001b[K\u001b[01;31m\u001b[Ka\u001b[m\u001b[K\u001b[01;31m\u001b[Kc\u001b[m\u001b[K\u001b[01;31m\u001b[Ka\u001b[m\u001b[K\u001b[01;31m\u001b[Ks\u001b[m\u001b[K\n"
     ]
    }
   ],
   "source": [
    "egrep \"\\w\" archivo.txt "
   ]
  },
  {
   "cell_type": "markdown",
   "metadata": {},
   "source": [
    "* \"\\s\" corresponde a todos las caracteres de espacios "
   ]
  },
  {
   "cell_type": "code",
   "execution_count": 72,
   "metadata": {},
   "outputs": [
    {
     "name": "stdout",
     "output_type": "stream",
     "text": [
      "Antigua\u001b[01;31m\u001b[K \u001b[m\u001b[Ky\u001b[01;31m\u001b[K \u001b[m\u001b[KBarbuda\u001b[01;31m\u001b[K \u001b[m\u001b[KSaint\u001b[01;31m\u001b[K \u001b[m\u001b[KJohn's\n",
      "Argentina\u001b[01;31m\u001b[K \u001b[m\u001b[KBuenos\u001b[01;31m\u001b[K \u001b[m\u001b[KAires\n",
      "Bahamas\u001b[01;31m\u001b[K \u001b[m\u001b[KNasáu\n",
      "Barbados\u001b[01;31m\u001b[K \u001b[m\u001b[KBridgetown\n",
      "Belice\u001b[01;31m\u001b[K \u001b[m\u001b[KBelmopán\n",
      "Bolivia\u001b[01;31m\u001b[K \u001b[m\u001b[KSucre\n",
      "Brasil\u001b[01;31m\u001b[K \u001b[m\u001b[KBrasilia\n",
      "Canadá\u001b[01;31m\u001b[K \u001b[m\u001b[KOttawa\n",
      "Chile\u001b[01;31m\u001b[K \u001b[m\u001b[KSantiago\u001b[01;31m\u001b[K \u001b[m\u001b[Kde\u001b[01;31m\u001b[K \u001b[m\u001b[KChile\n",
      "Colombia\u001b[01;31m\u001b[K \u001b[m\u001b[KBogotá\n",
      "Costa\u001b[01;31m\u001b[K \u001b[m\u001b[KRica\u001b[01;31m\u001b[K \u001b[m\u001b[KSan\u001b[01;31m\u001b[K \u001b[m\u001b[KJosé\n",
      "Cuba\u001b[01;31m\u001b[K \u001b[m\u001b[KLa\u001b[01;31m\u001b[K \u001b[m\u001b[KHabana\n",
      "Dominica\u001b[01;31m\u001b[K \u001b[m\u001b[KRoseau\n",
      "Ecuador\u001b[01;31m\u001b[K \u001b[m\u001b[KQuito\n",
      "El\u001b[01;31m\u001b[K \u001b[m\u001b[KSalvador\u001b[01;31m\u001b[K \u001b[m\u001b[KSan\u001b[01;31m\u001b[K \u001b[m\u001b[KSalvador\n",
      "Estados\u001b[01;31m\u001b[K \u001b[m\u001b[KUnidos\u001b[01;31m\u001b[K \u001b[m\u001b[KWashington\u001b[01;31m\u001b[K \u001b[m\u001b[KD.\u001b[01;31m\u001b[K \u001b[m\u001b[KC.\n",
      "Granada\u001b[01;31m\u001b[K \u001b[m\u001b[KSaint\u001b[01;31m\u001b[K \u001b[m\u001b[KGeorge\n",
      "Guatemala\u001b[01;31m\u001b[K \u001b[m\u001b[KCiudad\u001b[01;31m\u001b[K \u001b[m\u001b[Kde\u001b[01;31m\u001b[K \u001b[m\u001b[KGuatemala\n",
      "Guyana\u001b[01;31m\u001b[K \u001b[m\u001b[KGeorgetown\n",
      "Haití\u001b[01;31m\u001b[K \u001b[m\u001b[KPuerto\u001b[01;31m\u001b[K \u001b[m\u001b[KPríncipe\n",
      "Honduras\u001b[01;31m\u001b[K \u001b[m\u001b[KTegucigalpa\n",
      "Jamaica\u001b[01;31m\u001b[K \u001b[m\u001b[KKingston\n",
      "México\u001b[01;31m\u001b[K \u001b[m\u001b[KCiudad\u001b[01;31m\u001b[K \u001b[m\u001b[Kde\u001b[01;31m\u001b[K \u001b[m\u001b[KMéxico\n",
      "Nicaragua\u001b[01;31m\u001b[K \u001b[m\u001b[KManagua\n",
      "Panamá\u001b[01;31m\u001b[K \u001b[m\u001b[KPanamá\n",
      "Paraguay\u001b[01;31m\u001b[K \u001b[m\u001b[KAsunción\n",
      "Perú\u001b[01;31m\u001b[K \u001b[m\u001b[KLima\n",
      "República\u001b[01;31m\u001b[K \u001b[m\u001b[KDominicana\u001b[01;31m\u001b[K \u001b[m\u001b[KSanto\u001b[01;31m\u001b[K \u001b[m\u001b[KDomingo\n",
      "San\u001b[01;31m\u001b[K \u001b[m\u001b[KCristóbal\u001b[01;31m\u001b[K \u001b[m\u001b[Ky\u001b[01;31m\u001b[K \u001b[m\u001b[KNieves\u001b[01;31m\u001b[K \u001b[m\u001b[KBasseterre\n",
      "San\u001b[01;31m\u001b[K \u001b[m\u001b[KVicente\u001b[01;31m\u001b[K \u001b[m\u001b[Ky\u001b[01;31m\u001b[K \u001b[m\u001b[Klas\u001b[01;31m\u001b[K \u001b[m\u001b[KGranadinas\u001b[01;31m\u001b[K \u001b[m\u001b[KKingstown\n",
      "Santa\u001b[01;31m\u001b[K \u001b[m\u001b[KLucía\u001b[01;31m\u001b[K \u001b[m\u001b[KCastries\n",
      "Surinam\u001b[01;31m\u001b[K \u001b[m\u001b[KParamaribo\n",
      "Trinidad\u001b[01;31m\u001b[K \u001b[m\u001b[Ky\u001b[01;31m\u001b[K \u001b[m\u001b[KTobago\u001b[01;31m\u001b[K \u001b[m\u001b[KPuerto\u001b[01;31m\u001b[K \u001b[m\u001b[KEspaña\n",
      "Uruguay\u001b[01;31m\u001b[K \u001b[m\u001b[KMontevideo\n",
      "Venezuela\u001b[01;31m\u001b[K \u001b[m\u001b[KCaracas\n"
     ]
    }
   ],
   "source": [
    "egrep \"\\s\" archivo.txt "
   ]
  },
  {
   "cell_type": "markdown",
   "metadata": {},
   "source": [
    "* \"\\W\" corresponde a todos las caracteres que __NO__ son palabras "
   ]
  },
  {
   "cell_type": "markdown",
   "metadata": {},
   "source": [
    "* \"\\D\" corresponde a todos las caracteres que __NO__ son numeros "
   ]
  },
  {
   "cell_type": "markdown",
   "metadata": {},
   "source": [
    "* \"\\S\" corresponde a todos las caracteres que __NO__ son espacios "
   ]
  },
  {
   "cell_type": "markdown",
   "metadata": {},
   "source": [
    "Ademas de los conjuntos generales, podemos crear conjunto de caracteres específicos utilizando corchetes [ ]. Por ejemplo: "
   ]
  },
  {
   "cell_type": "code",
   "execution_count": 74,
   "metadata": {},
   "outputs": [
    {
     "name": "stdout",
     "output_type": "stream",
     "text": [
      "Ant\u001b[01;31m\u001b[Ki\u001b[m\u001b[Kg\u001b[01;31m\u001b[Ku\u001b[m\u001b[K\u001b[01;31m\u001b[Ka\u001b[m\u001b[K y B\u001b[01;31m\u001b[Ka\u001b[m\u001b[Krb\u001b[01;31m\u001b[Ku\u001b[m\u001b[Kd\u001b[01;31m\u001b[Ka\u001b[m\u001b[K S\u001b[01;31m\u001b[Ka\u001b[m\u001b[K\u001b[01;31m\u001b[Ki\u001b[m\u001b[Knt J\u001b[01;31m\u001b[Ko\u001b[m\u001b[Khn's\n",
      "Arg\u001b[01;31m\u001b[Ke\u001b[m\u001b[Knt\u001b[01;31m\u001b[Ki\u001b[m\u001b[Kn\u001b[01;31m\u001b[Ka\u001b[m\u001b[K B\u001b[01;31m\u001b[Ku\u001b[m\u001b[K\u001b[01;31m\u001b[Ke\u001b[m\u001b[Kn\u001b[01;31m\u001b[Ko\u001b[m\u001b[Ks A\u001b[01;31m\u001b[Ki\u001b[m\u001b[Kr\u001b[01;31m\u001b[Ke\u001b[m\u001b[Ks\n",
      "B\u001b[01;31m\u001b[Ka\u001b[m\u001b[Kh\u001b[01;31m\u001b[Ka\u001b[m\u001b[Km\u001b[01;31m\u001b[Ka\u001b[m\u001b[Ks N\u001b[01;31m\u001b[Ka\u001b[m\u001b[Ksá\u001b[01;31m\u001b[Ku\u001b[m\u001b[K\n",
      "B\u001b[01;31m\u001b[Ka\u001b[m\u001b[Krb\u001b[01;31m\u001b[Ka\u001b[m\u001b[Kd\u001b[01;31m\u001b[Ko\u001b[m\u001b[Ks Br\u001b[01;31m\u001b[Ki\u001b[m\u001b[Kdg\u001b[01;31m\u001b[Ke\u001b[m\u001b[Kt\u001b[01;31m\u001b[Ko\u001b[m\u001b[Kwn\n",
      "B\u001b[01;31m\u001b[Ke\u001b[m\u001b[Kl\u001b[01;31m\u001b[Ki\u001b[m\u001b[Kc\u001b[01;31m\u001b[Ke\u001b[m\u001b[K B\u001b[01;31m\u001b[Ke\u001b[m\u001b[Klm\u001b[01;31m\u001b[Ko\u001b[m\u001b[Kpán\n",
      "B\u001b[01;31m\u001b[Ko\u001b[m\u001b[Kl\u001b[01;31m\u001b[Ki\u001b[m\u001b[Kv\u001b[01;31m\u001b[Ki\u001b[m\u001b[K\u001b[01;31m\u001b[Ka\u001b[m\u001b[K S\u001b[01;31m\u001b[Ku\u001b[m\u001b[Kcr\u001b[01;31m\u001b[Ke\u001b[m\u001b[K\n",
      "Br\u001b[01;31m\u001b[Ka\u001b[m\u001b[Ks\u001b[01;31m\u001b[Ki\u001b[m\u001b[Kl Br\u001b[01;31m\u001b[Ka\u001b[m\u001b[Ks\u001b[01;31m\u001b[Ki\u001b[m\u001b[Kl\u001b[01;31m\u001b[Ki\u001b[m\u001b[K\u001b[01;31m\u001b[Ka\u001b[m\u001b[K 100\n",
      "C\u001b[01;31m\u001b[Ka\u001b[m\u001b[Kn\u001b[01;31m\u001b[Ka\u001b[m\u001b[Kdá Ott\u001b[01;31m\u001b[Ka\u001b[m\u001b[Kw\u001b[01;31m\u001b[Ka\u001b[m\u001b[K\n",
      "Ch\u001b[01;31m\u001b[Ki\u001b[m\u001b[Kl\u001b[01;31m\u001b[Ke\u001b[m\u001b[K S\u001b[01;31m\u001b[Ka\u001b[m\u001b[Knt\u001b[01;31m\u001b[Ki\u001b[m\u001b[K\u001b[01;31m\u001b[Ka\u001b[m\u001b[Kg\u001b[01;31m\u001b[Ko\u001b[m\u001b[K d\u001b[01;31m\u001b[Ke\u001b[m\u001b[K Ch\u001b[01;31m\u001b[Ki\u001b[m\u001b[Kl\u001b[01;31m\u001b[Ke\u001b[m\u001b[K\n",
      "C\u001b[01;31m\u001b[Ko\u001b[m\u001b[Kl\u001b[01;31m\u001b[Ko\u001b[m\u001b[Kmb\u001b[01;31m\u001b[Ki\u001b[m\u001b[K\u001b[01;31m\u001b[Ka\u001b[m\u001b[K B\u001b[01;31m\u001b[Ko\u001b[m\u001b[Kg\u001b[01;31m\u001b[Ko\u001b[m\u001b[Ktá\n",
      "C\u001b[01;31m\u001b[Ko\u001b[m\u001b[Kst\u001b[01;31m\u001b[Ka\u001b[m\u001b[K R\u001b[01;31m\u001b[Ki\u001b[m\u001b[Kc\u001b[01;31m\u001b[Ka\u001b[m\u001b[K S\u001b[01;31m\u001b[Ka\u001b[m\u001b[Kn J\u001b[01;31m\u001b[Ko\u001b[m\u001b[Ksé\n",
      "C\u001b[01;31m\u001b[Ku\u001b[m\u001b[Kb\u001b[01;31m\u001b[Ka\u001b[m\u001b[K L\u001b[01;31m\u001b[Ka\u001b[m\u001b[K H\u001b[01;31m\u001b[Ka\u001b[m\u001b[Kb\u001b[01;31m\u001b[Ka\u001b[m\u001b[Kn\u001b[01;31m\u001b[Ka\u001b[m\u001b[K\n",
      "D\u001b[01;31m\u001b[Ko\u001b[m\u001b[Km\u001b[01;31m\u001b[Ki\u001b[m\u001b[Kn\u001b[01;31m\u001b[Ki\u001b[m\u001b[Kc\u001b[01;31m\u001b[Ka\u001b[m\u001b[K R\u001b[01;31m\u001b[Ko\u001b[m\u001b[Ks\u001b[01;31m\u001b[Ke\u001b[m\u001b[K\u001b[01;31m\u001b[Ka\u001b[m\u001b[K\u001b[01;31m\u001b[Ku\u001b[m\u001b[K\n",
      "Ec\u001b[01;31m\u001b[Ku\u001b[m\u001b[K\u001b[01;31m\u001b[Ka\u001b[m\u001b[Kd\u001b[01;31m\u001b[Ko\u001b[m\u001b[Kr Q\u001b[01;31m\u001b[Ku\u001b[m\u001b[K\u001b[01;31m\u001b[Ki\u001b[m\u001b[Kt\u001b[01;31m\u001b[Ko\u001b[m\u001b[K\n",
      "El S\u001b[01;31m\u001b[Ka\u001b[m\u001b[Klv\u001b[01;31m\u001b[Ka\u001b[m\u001b[Kd\u001b[01;31m\u001b[Ko\u001b[m\u001b[Kr S\u001b[01;31m\u001b[Ka\u001b[m\u001b[Kn S\u001b[01;31m\u001b[Ka\u001b[m\u001b[Klv\u001b[01;31m\u001b[Ka\u001b[m\u001b[Kd\u001b[01;31m\u001b[Ko\u001b[m\u001b[Kr\n",
      "Est\u001b[01;31m\u001b[Ka\u001b[m\u001b[Kd\u001b[01;31m\u001b[Ko\u001b[m\u001b[Ks Un\u001b[01;31m\u001b[Ki\u001b[m\u001b[Kd\u001b[01;31m\u001b[Ko\u001b[m\u001b[Ks W\u001b[01;31m\u001b[Ka\u001b[m\u001b[Ksh\u001b[01;31m\u001b[Ki\u001b[m\u001b[Kngt\u001b[01;31m\u001b[Ko\u001b[m\u001b[Kn D. C.\n",
      "Gr\u001b[01;31m\u001b[Ka\u001b[m\u001b[Kn\u001b[01;31m\u001b[Ka\u001b[m\u001b[Kd\u001b[01;31m\u001b[Ka\u001b[m\u001b[K S\u001b[01;31m\u001b[Ka\u001b[m\u001b[K\u001b[01;31m\u001b[Ki\u001b[m\u001b[Knt G\u001b[01;31m\u001b[Ke\u001b[m\u001b[K\u001b[01;31m\u001b[Ko\u001b[m\u001b[Krg\u001b[01;31m\u001b[Ke\u001b[m\u001b[K\n",
      "G\u001b[01;31m\u001b[Ku\u001b[m\u001b[K\u001b[01;31m\u001b[Ka\u001b[m\u001b[Kt\u001b[01;31m\u001b[Ke\u001b[m\u001b[Km\u001b[01;31m\u001b[Ka\u001b[m\u001b[Kl\u001b[01;31m\u001b[Ka\u001b[m\u001b[K C\u001b[01;31m\u001b[Ki\u001b[m\u001b[K\u001b[01;31m\u001b[Ku\u001b[m\u001b[Kd\u001b[01;31m\u001b[Ka\u001b[m\u001b[Kd d\u001b[01;31m\u001b[Ke\u001b[m\u001b[K G\u001b[01;31m\u001b[Ku\u001b[m\u001b[K\u001b[01;31m\u001b[Ka\u001b[m\u001b[Kt\u001b[01;31m\u001b[Ke\u001b[m\u001b[Km\u001b[01;31m\u001b[Ka\u001b[m\u001b[Kl\u001b[01;31m\u001b[Ka\u001b[m\u001b[K\n",
      "G\u001b[01;31m\u001b[Ku\u001b[m\u001b[Ky\u001b[01;31m\u001b[Ka\u001b[m\u001b[Kn\u001b[01;31m\u001b[Ka\u001b[m\u001b[K G\u001b[01;31m\u001b[Ke\u001b[m\u001b[K\u001b[01;31m\u001b[Ko\u001b[m\u001b[Krg\u001b[01;31m\u001b[Ke\u001b[m\u001b[Kt\u001b[01;31m\u001b[Ko\u001b[m\u001b[Kwn\n",
      "H\u001b[01;31m\u001b[Ka\u001b[m\u001b[K\u001b[01;31m\u001b[Ki\u001b[m\u001b[Ktí P\u001b[01;31m\u001b[Ku\u001b[m\u001b[K\u001b[01;31m\u001b[Ke\u001b[m\u001b[Krt\u001b[01;31m\u001b[Ko\u001b[m\u001b[K Prínc\u001b[01;31m\u001b[Ki\u001b[m\u001b[Kp\u001b[01;31m\u001b[Ke\u001b[m\u001b[K\n",
      "H\u001b[01;31m\u001b[Ko\u001b[m\u001b[Knd\u001b[01;31m\u001b[Ku\u001b[m\u001b[Kr\u001b[01;31m\u001b[Ka\u001b[m\u001b[Ks T\u001b[01;31m\u001b[Ke\u001b[m\u001b[Kg\u001b[01;31m\u001b[Ku\u001b[m\u001b[Kc\u001b[01;31m\u001b[Ki\u001b[m\u001b[Kg\u001b[01;31m\u001b[Ka\u001b[m\u001b[Klp\u001b[01;31m\u001b[Ka\u001b[m\u001b[K\n",
      "J\u001b[01;31m\u001b[Ka\u001b[m\u001b[Km\u001b[01;31m\u001b[Ka\u001b[m\u001b[K\u001b[01;31m\u001b[Ki\u001b[m\u001b[Kc\u001b[01;31m\u001b[Ka\u001b[m\u001b[K K\u001b[01;31m\u001b[Ki\u001b[m\u001b[Kngst\u001b[01;31m\u001b[Ko\u001b[m\u001b[Kn\n",
      "Méx\u001b[01;31m\u001b[Ki\u001b[m\u001b[Kc\u001b[01;31m\u001b[Ko\u001b[m\u001b[K C\u001b[01;31m\u001b[Ki\u001b[m\u001b[K\u001b[01;31m\u001b[Ku\u001b[m\u001b[Kd\u001b[01;31m\u001b[Ka\u001b[m\u001b[Kd d\u001b[01;31m\u001b[Ke\u001b[m\u001b[K Méx\u001b[01;31m\u001b[Ki\u001b[m\u001b[Kc\u001b[01;31m\u001b[Ko\u001b[m\u001b[K\n",
      "N\u001b[01;31m\u001b[Ki\u001b[m\u001b[Kc\u001b[01;31m\u001b[Ka\u001b[m\u001b[Kr\u001b[01;31m\u001b[Ka\u001b[m\u001b[Kg\u001b[01;31m\u001b[Ku\u001b[m\u001b[K\u001b[01;31m\u001b[Ka\u001b[m\u001b[K M\u001b[01;31m\u001b[Ka\u001b[m\u001b[Kn\u001b[01;31m\u001b[Ka\u001b[m\u001b[Kg\u001b[01;31m\u001b[Ku\u001b[m\u001b[K\u001b[01;31m\u001b[Ka\u001b[m\u001b[K\n",
      "P\u001b[01;31m\u001b[Ka\u001b[m\u001b[Kn\u001b[01;31m\u001b[Ka\u001b[m\u001b[Kmá P\u001b[01;31m\u001b[Ka\u001b[m\u001b[Kn\u001b[01;31m\u001b[Ka\u001b[m\u001b[Kmá\n",
      "P\u001b[01;31m\u001b[Ka\u001b[m\u001b[Kr\u001b[01;31m\u001b[Ka\u001b[m\u001b[Kg\u001b[01;31m\u001b[Ku\u001b[m\u001b[K\u001b[01;31m\u001b[Ka\u001b[m\u001b[Ky As\u001b[01;31m\u001b[Ku\u001b[m\u001b[Knc\u001b[01;31m\u001b[Ki\u001b[m\u001b[Kón\n",
      "P\u001b[01;31m\u001b[Ke\u001b[m\u001b[Krú L\u001b[01;31m\u001b[Ki\u001b[m\u001b[Km\u001b[01;31m\u001b[Ka\u001b[m\u001b[K\n",
      "R\u001b[01;31m\u001b[Ke\u001b[m\u001b[Kpúbl\u001b[01;31m\u001b[Ki\u001b[m\u001b[Kc\u001b[01;31m\u001b[Ka\u001b[m\u001b[K D\u001b[01;31m\u001b[Ko\u001b[m\u001b[Km\u001b[01;31m\u001b[Ki\u001b[m\u001b[Kn\u001b[01;31m\u001b[Ki\u001b[m\u001b[Kc\u001b[01;31m\u001b[Ka\u001b[m\u001b[Kn\u001b[01;31m\u001b[Ka\u001b[m\u001b[K S\u001b[01;31m\u001b[Ka\u001b[m\u001b[Knt\u001b[01;31m\u001b[Ko\u001b[m\u001b[K D\u001b[01;31m\u001b[Ko\u001b[m\u001b[Km\u001b[01;31m\u001b[Ki\u001b[m\u001b[Kng\u001b[01;31m\u001b[Ko\u001b[m\u001b[K\n",
      "S\u001b[01;31m\u001b[Ka\u001b[m\u001b[Kn Cr\u001b[01;31m\u001b[Ki\u001b[m\u001b[Kstób\u001b[01;31m\u001b[Ka\u001b[m\u001b[Kl y N\u001b[01;31m\u001b[Ki\u001b[m\u001b[K\u001b[01;31m\u001b[Ke\u001b[m\u001b[Kv\u001b[01;31m\u001b[Ke\u001b[m\u001b[Ks B\u001b[01;31m\u001b[Ka\u001b[m\u001b[Kss\u001b[01;31m\u001b[Ke\u001b[m\u001b[Kt\u001b[01;31m\u001b[Ke\u001b[m\u001b[Krr\u001b[01;31m\u001b[Ke\u001b[m\u001b[K\n",
      "S\u001b[01;31m\u001b[Ka\u001b[m\u001b[Kn V\u001b[01;31m\u001b[Ki\u001b[m\u001b[Kc\u001b[01;31m\u001b[Ke\u001b[m\u001b[Knt\u001b[01;31m\u001b[Ke\u001b[m\u001b[K y l\u001b[01;31m\u001b[Ka\u001b[m\u001b[Ks Gr\u001b[01;31m\u001b[Ka\u001b[m\u001b[Kn\u001b[01;31m\u001b[Ka\u001b[m\u001b[Kd\u001b[01;31m\u001b[Ki\u001b[m\u001b[Kn\u001b[01;31m\u001b[Ka\u001b[m\u001b[Ks K\u001b[01;31m\u001b[Ki\u001b[m\u001b[Kngst\u001b[01;31m\u001b[Ko\u001b[m\u001b[Kwn\n",
      "S\u001b[01;31m\u001b[Ka\u001b[m\u001b[Knt\u001b[01;31m\u001b[Ka\u001b[m\u001b[K L\u001b[01;31m\u001b[Ku\u001b[m\u001b[Kcí\u001b[01;31m\u001b[Ka\u001b[m\u001b[K C\u001b[01;31m\u001b[Ka\u001b[m\u001b[Kstr\u001b[01;31m\u001b[Ki\u001b[m\u001b[K\u001b[01;31m\u001b[Ke\u001b[m\u001b[Ks\n",
      "S\u001b[01;31m\u001b[Ku\u001b[m\u001b[Kr\u001b[01;31m\u001b[Ki\u001b[m\u001b[Kn\u001b[01;31m\u001b[Ka\u001b[m\u001b[Km P\u001b[01;31m\u001b[Ka\u001b[m\u001b[Kr\u001b[01;31m\u001b[Ka\u001b[m\u001b[Km\u001b[01;31m\u001b[Ka\u001b[m\u001b[Kr\u001b[01;31m\u001b[Ki\u001b[m\u001b[Kb\u001b[01;31m\u001b[Ko\u001b[m\u001b[K\n",
      "Tr\u001b[01;31m\u001b[Ki\u001b[m\u001b[Kn\u001b[01;31m\u001b[Ki\u001b[m\u001b[Kd\u001b[01;31m\u001b[Ka\u001b[m\u001b[Kd y T\u001b[01;31m\u001b[Ko\u001b[m\u001b[Kb\u001b[01;31m\u001b[Ka\u001b[m\u001b[Kg\u001b[01;31m\u001b[Ko\u001b[m\u001b[K P\u001b[01;31m\u001b[Ku\u001b[m\u001b[K\u001b[01;31m\u001b[Ke\u001b[m\u001b[Krt\u001b[01;31m\u001b[Ko\u001b[m\u001b[K Esp\u001b[01;31m\u001b[Ka\u001b[m\u001b[Kñ\u001b[01;31m\u001b[Ka\u001b[m\u001b[K\n",
      "Ur\u001b[01;31m\u001b[Ku\u001b[m\u001b[Kg\u001b[01;31m\u001b[Ku\u001b[m\u001b[K\u001b[01;31m\u001b[Ka\u001b[m\u001b[Ky M\u001b[01;31m\u001b[Ko\u001b[m\u001b[Knt\u001b[01;31m\u001b[Ke\u001b[m\u001b[Kv\u001b[01;31m\u001b[Ki\u001b[m\u001b[Kd\u001b[01;31m\u001b[Ke\u001b[m\u001b[K\u001b[01;31m\u001b[Ko\u001b[m\u001b[K\n",
      "V\u001b[01;31m\u001b[Ke\u001b[m\u001b[Kn\u001b[01;31m\u001b[Ke\u001b[m\u001b[Kz\u001b[01;31m\u001b[Ku\u001b[m\u001b[K\u001b[01;31m\u001b[Ke\u001b[m\u001b[Kl\u001b[01;31m\u001b[Ka\u001b[m\u001b[K C\u001b[01;31m\u001b[Ka\u001b[m\u001b[Kr\u001b[01;31m\u001b[Ka\u001b[m\u001b[Kc\u001b[01;31m\u001b[Ka\u001b[m\u001b[Ks\n"
     ]
    }
   ],
   "source": [
    "egrep \"[aeiou]\" archivo.txt "
   ]
  },
  {
   "cell_type": "code",
   "execution_count": 4,
   "metadata": {},
   "outputs": [
    {
     "name": "stdout",
     "output_type": "stream",
     "text": [
      "Baha\u001b[01;31m\u001b[Km\u001b[m\u001b[Kas Nasáu\n",
      "Be\u001b[01;31m\u001b[Kl\u001b[m\u001b[Kice Be\u001b[01;31m\u001b[Kl\u001b[m\u001b[K\u001b[01;31m\u001b[Km\u001b[m\u001b[Kopán\n",
      "Bo\u001b[01;31m\u001b[Kl\u001b[m\u001b[Kivia Sucre\n",
      "Brasi\u001b[01;31m\u001b[Kl\u001b[m\u001b[K Brasi\u001b[01;31m\u001b[Kl\u001b[m\u001b[Kia 100\n",
      "Chi\u001b[01;31m\u001b[Kl\u001b[m\u001b[Ke Santiago de Chi\u001b[01;31m\u001b[Kl\u001b[m\u001b[Ke\n",
      "Co\u001b[01;31m\u001b[Kl\u001b[m\u001b[Ko\u001b[01;31m\u001b[Km\u001b[m\u001b[Kbia Bogotá\n",
      "Do\u001b[01;31m\u001b[Km\u001b[m\u001b[Kinica Roseau\n",
      "E\u001b[01;31m\u001b[Kl\u001b[m\u001b[K Sa\u001b[01;31m\u001b[Kl\u001b[m\u001b[Kvador San Sa\u001b[01;31m\u001b[Kl\u001b[m\u001b[Kvador\n",
      "Guate\u001b[01;31m\u001b[Km\u001b[m\u001b[Ka\u001b[01;31m\u001b[Kl\u001b[m\u001b[Ka Ciudad de Guate\u001b[01;31m\u001b[Km\u001b[m\u001b[Ka\u001b[01;31m\u001b[Kl\u001b[m\u001b[Ka\n",
      "Honduras Teguciga\u001b[01;31m\u001b[Kl\u001b[m\u001b[Kpa\n",
      "Ja\u001b[01;31m\u001b[Km\u001b[m\u001b[Kaica Kingston\n",
      "Pana\u001b[01;31m\u001b[Km\u001b[m\u001b[Ká Pana\u001b[01;31m\u001b[Km\u001b[m\u001b[Ká\n",
      "Perú Li\u001b[01;31m\u001b[Km\u001b[m\u001b[Ka\n",
      "Repúb\u001b[01;31m\u001b[Kl\u001b[m\u001b[Kica Do\u001b[01;31m\u001b[Km\u001b[m\u001b[Kinicana Santo Do\u001b[01;31m\u001b[Km\u001b[m\u001b[Kingo\n",
      "San Cristóba\u001b[01;31m\u001b[Kl\u001b[m\u001b[K y Nieves Basseterre\n",
      "San Vicente y \u001b[01;31m\u001b[Kl\u001b[m\u001b[Kas Granadinas Kingstown\n",
      "Surina\u001b[01;31m\u001b[Km\u001b[m\u001b[K Para\u001b[01;31m\u001b[Km\u001b[m\u001b[Karibo\n",
      "Venezue\u001b[01;31m\u001b[Kl\u001b[m\u001b[Ka Caracas\n"
     ]
    }
   ],
   "source": [
    "egrep \"[k-m]\" archivo.txt "
   ]
  },
  {
   "cell_type": "code",
   "execution_count": 1,
   "metadata": {},
   "outputs": [
    {
     "name": "stdout",
     "output_type": "stream",
     "text": [
      "Antigua y Barbuda Saint \u001b[01;31m\u001b[KJ\u001b[m\u001b[Kohn's\n",
      "Bahamas \u001b[01;31m\u001b[KN\u001b[m\u001b[Kasáu\n",
      "Canadá \u001b[01;31m\u001b[KO\u001b[m\u001b[Kttawa\n",
      "Costa Rica San \u001b[01;31m\u001b[KJ\u001b[m\u001b[Kosé\n",
      "Cuba \u001b[01;31m\u001b[KL\u001b[m\u001b[Ka \u001b[01;31m\u001b[KH\u001b[m\u001b[Kabana\n",
      "\u001b[01;31m\u001b[KE\u001b[m\u001b[Kcuador \u001b[01;31m\u001b[KQ\u001b[m\u001b[Kuito\n",
      "\u001b[01;31m\u001b[KE\u001b[m\u001b[Kl Salvador San Salvador\n",
      "\u001b[01;31m\u001b[KE\u001b[m\u001b[Kstados Unidos Washington D. C.\n",
      "\u001b[01;31m\u001b[KG\u001b[m\u001b[Kranada Saint \u001b[01;31m\u001b[KG\u001b[m\u001b[Keorge\n",
      "\u001b[01;31m\u001b[KG\u001b[m\u001b[Kuatemala Ciudad de \u001b[01;31m\u001b[KG\u001b[m\u001b[Kuatemala\n",
      "\u001b[01;31m\u001b[KG\u001b[m\u001b[Kuyana \u001b[01;31m\u001b[KG\u001b[m\u001b[Keorgetown\n",
      "\u001b[01;31m\u001b[KH\u001b[m\u001b[Kaití \u001b[01;31m\u001b[KP\u001b[m\u001b[Kuerto \u001b[01;31m\u001b[KP\u001b[m\u001b[Kríncipe\n",
      "\u001b[01;31m\u001b[KH\u001b[m\u001b[Konduras Tegucigalpa\n",
      "\u001b[01;31m\u001b[KJ\u001b[m\u001b[Kamaica \u001b[01;31m\u001b[KK\u001b[m\u001b[Kingston\n",
      "\u001b[01;31m\u001b[KM\u001b[m\u001b[Kéxico Ciudad de \u001b[01;31m\u001b[KM\u001b[m\u001b[Kéxico\n",
      "\u001b[01;31m\u001b[KN\u001b[m\u001b[Kicaragua \u001b[01;31m\u001b[KM\u001b[m\u001b[Kanagua\n",
      "\u001b[01;31m\u001b[KP\u001b[m\u001b[Kanamá \u001b[01;31m\u001b[KP\u001b[m\u001b[Kanamá\n",
      "\u001b[01;31m\u001b[KP\u001b[m\u001b[Karaguay Asunción\n",
      "\u001b[01;31m\u001b[KP\u001b[m\u001b[Kerú \u001b[01;31m\u001b[KL\u001b[m\u001b[Kima\n",
      "San Cristóbal y \u001b[01;31m\u001b[KN\u001b[m\u001b[Kieves Basseterre\n",
      "San Vicente y las \u001b[01;31m\u001b[KG\u001b[m\u001b[Kranadinas \u001b[01;31m\u001b[KK\u001b[m\u001b[Kingstown\n",
      "Santa \u001b[01;31m\u001b[KL\u001b[m\u001b[Kucía Castries\n",
      "Surinam \u001b[01;31m\u001b[KP\u001b[m\u001b[Karamaribo\n",
      "Trinidad y Tobago \u001b[01;31m\u001b[KP\u001b[m\u001b[Kuerto \u001b[01;31m\u001b[KE\u001b[m\u001b[Kspaña\n",
      "Uruguay \u001b[01;31m\u001b[KM\u001b[m\u001b[Kontevideo\n"
     ]
    }
   ],
   "source": [
    "egrep \"[E-J]\" archivo.txt"
   ]
  },
  {
   "cell_type": "code",
   "execution_count": 1,
   "metadata": {},
   "outputs": [
    {
     "name": "stdout",
     "output_type": "stream",
     "text": [
      "Antigua y Barbuda Saint \u001b[01;31m\u001b[KJ\u001b[m\u001b[Kohn's\n",
      "Baha\u001b[01;31m\u001b[Km\u001b[m\u001b[Kas Nasáu\n",
      "Be\u001b[01;31m\u001b[Kl\u001b[m\u001b[Kice Be\u001b[01;31m\u001b[Kl\u001b[m\u001b[K\u001b[01;31m\u001b[Km\u001b[m\u001b[Kopán\n",
      "Bo\u001b[01;31m\u001b[Kl\u001b[m\u001b[Kivia Sucre\n",
      "Brasi\u001b[01;31m\u001b[Kl\u001b[m\u001b[K Brasi\u001b[01;31m\u001b[Kl\u001b[m\u001b[Kia 100\n",
      "Chi\u001b[01;31m\u001b[Kl\u001b[m\u001b[Ke Santiago de Chi\u001b[01;31m\u001b[Kl\u001b[m\u001b[Ke\n",
      "Co\u001b[01;31m\u001b[Kl\u001b[m\u001b[Ko\u001b[01;31m\u001b[Km\u001b[m\u001b[Kbia Bogotá\n",
      "Costa Rica San \u001b[01;31m\u001b[KJ\u001b[m\u001b[Kosé\n",
      "Cuba La \u001b[01;31m\u001b[KH\u001b[m\u001b[Kabana\n",
      "Do\u001b[01;31m\u001b[Km\u001b[m\u001b[Kinica Roseau\n",
      "\u001b[01;31m\u001b[KE\u001b[m\u001b[Kcuador Quito\n",
      "\u001b[01;31m\u001b[KE\u001b[m\u001b[K\u001b[01;31m\u001b[Kl\u001b[m\u001b[K Sa\u001b[01;31m\u001b[Kl\u001b[m\u001b[Kvador San Sa\u001b[01;31m\u001b[Kl\u001b[m\u001b[Kvador\n",
      "\u001b[01;31m\u001b[KE\u001b[m\u001b[Kstados Unidos Washington D. C.\n",
      "\u001b[01;31m\u001b[KG\u001b[m\u001b[Kranada Saint \u001b[01;31m\u001b[KG\u001b[m\u001b[Keorge\n",
      "\u001b[01;31m\u001b[KG\u001b[m\u001b[Kuate\u001b[01;31m\u001b[Km\u001b[m\u001b[Ka\u001b[01;31m\u001b[Kl\u001b[m\u001b[Ka Ciudad de \u001b[01;31m\u001b[KG\u001b[m\u001b[Kuate\u001b[01;31m\u001b[Km\u001b[m\u001b[Ka\u001b[01;31m\u001b[Kl\u001b[m\u001b[Ka\n",
      "\u001b[01;31m\u001b[KG\u001b[m\u001b[Kuyana \u001b[01;31m\u001b[KG\u001b[m\u001b[Keorgetown\n",
      "\u001b[01;31m\u001b[KH\u001b[m\u001b[Kaití Puerto Príncipe\n",
      "\u001b[01;31m\u001b[KH\u001b[m\u001b[Konduras Teguciga\u001b[01;31m\u001b[Kl\u001b[m\u001b[Kpa\n",
      "\u001b[01;31m\u001b[KJ\u001b[m\u001b[Ka\u001b[01;31m\u001b[Km\u001b[m\u001b[Kaica Kingston\n",
      "Pana\u001b[01;31m\u001b[Km\u001b[m\u001b[Ká Pana\u001b[01;31m\u001b[Km\u001b[m\u001b[Ká\n",
      "Perú Li\u001b[01;31m\u001b[Km\u001b[m\u001b[Ka\n",
      "Repúb\u001b[01;31m\u001b[Kl\u001b[m\u001b[Kica Do\u001b[01;31m\u001b[Km\u001b[m\u001b[Kinicana Santo Do\u001b[01;31m\u001b[Km\u001b[m\u001b[Kingo\n",
      "San Cristóba\u001b[01;31m\u001b[Kl\u001b[m\u001b[K y Nieves Basseterre\n",
      "San Vicente y \u001b[01;31m\u001b[Kl\u001b[m\u001b[Kas \u001b[01;31m\u001b[KG\u001b[m\u001b[Kranadinas Kingstown\n",
      "Surina\u001b[01;31m\u001b[Km\u001b[m\u001b[K Para\u001b[01;31m\u001b[Km\u001b[m\u001b[Karibo\n",
      "Trinidad y Tobago Puerto \u001b[01;31m\u001b[KE\u001b[m\u001b[Kspaña\n",
      "Venezue\u001b[01;31m\u001b[Kl\u001b[m\u001b[Ka Caracas\n"
     ]
    }
   ],
   "source": [
    "egrep \"[k-mE-J]\" archivo.txt"
   ]
  },
  {
   "cell_type": "code",
   "execution_count": 12,
   "metadata": {},
   "outputs": [
    {
     "name": "stdout",
     "output_type": "stream",
     "text": [
      "\u001b[01;31m\u001b[K1\u001b[m\u001b[K\u001b[01;31m\u001b[K2\u001b[m\u001b[K\u001b[01;31m\u001b[K3\u001b[m\u001b[K\u001b[01;31m\u001b[K4\u001b[m\u001b[K\u001b[01;31m\u001b[K5\u001b[m\u001b[K\u001b[01;31m\u001b[K6\u001b[m\u001b[K\u001b[01;31m\u001b[K7\u001b[m\u001b[K\u001b[01;31m\u001b[K8\u001b[m\u001b[K\u001b[01;31m\u001b[K9\u001b[m\u001b[K\n",
      "\u001b[01;31m\u001b[K2\u001b[m\u001b[K\u001b[01;31m\u001b[K0\u001b[m\u001b[K \n",
      "\u001b[01;31m\u001b[K4\u001b[m\u001b[K\u001b[01;31m\u001b[K0\u001b[m\u001b[K \n",
      "\u001b[01;31m\u001b[K1\u001b[m\u001b[K\u001b[01;31m\u001b[K0\u001b[m\u001b[K\u001b[01;31m\u001b[K0\u001b[m\u001b[K \n"
     ]
    }
   ],
   "source": [
    "egrep \"[0-9]\" archivo1.txt "
   ]
  },
  {
   "cell_type": "markdown",
   "metadata": {},
   "source": [
    "### Escape, Anclas y otros"
   ]
  },
  {
   "cell_type": "markdown",
   "metadata": {},
   "source": [
    "En el caso de que desees buscar ciertos signos de puntación que que son utilizados como metacaracteres. Podrias utilizar el simbolo \"\\\" para \"escapar\" de algun caracter que tenga un significado especial dentro de una expresión regular.  Por ejemplo: "
   ]
  },
  {
   "cell_type": "code",
   "execution_count": 13,
   "metadata": {},
   "outputs": [
    {
     "name": "stdout",
     "output_type": "stream",
     "text": [
      "\u001b[01;31m\u001b[K+\u001b[m\u001b[K10 \n",
      "\u001b[01;31m\u001b[K+\u001b[m\u001b[K20 \n"
     ]
    }
   ],
   "source": [
    "egrep \"\\+\" archivo1.txt "
   ]
  },
  {
   "cell_type": "code",
   "execution_count": 2,
   "metadata": {},
   "outputs": [
    {
     "name": "stdout",
     "output_type": "stream",
     "text": [
      "Estados Unidos Washington D\u001b[01;31m\u001b[K.\u001b[m\u001b[K C\u001b[01;31m\u001b[K.\u001b[m\u001b[K\n"
     ]
    }
   ],
   "source": [
    "egrep \"\\.\" archivo.txt "
   ]
  },
  {
   "cell_type": "markdown",
   "metadata": {},
   "source": [
    "Los \"caracteres anclas\" que no coinciden con ningun caracter pero podría indicar la posicion inicial o final de la linea. "
   ]
  },
  {
   "cell_type": "code",
   "execution_count": 3,
   "metadata": {},
   "outputs": [
    {
     "name": "stdout",
     "output_type": "stream",
     "text": [
      "\u001b[01;31m\u001b[KA\u001b[m\u001b[Kntigua y Barbuda Saint John's\n",
      "\u001b[01;31m\u001b[KA\u001b[m\u001b[Krgentina Buenos Aires\n"
     ]
    }
   ],
   "source": [
    "egrep \"^A\" archivo.txt "
   ]
  },
  {
   "cell_type": "code",
   "execution_count": 6,
   "metadata": {},
   "outputs": [
    {
     "name": "stdout",
     "output_type": "stream",
     "text": [
      "Antigua y Barbuda Saint John'\u001b[01;31m\u001b[Ks\u001b[m\u001b[K\n",
      "Argentina Buenos Aire\u001b[01;31m\u001b[Ks\u001b[m\u001b[K\n",
      "Santa Lucía Castrie\u001b[01;31m\u001b[Ks\u001b[m\u001b[K\n",
      "Venezuela Caraca\u001b[01;31m\u001b[Ks\u001b[m\u001b[K\n"
     ]
    }
   ],
   "source": [
    "egrep \"s$\" archivo.txt"
   ]
  },
  {
   "cell_type": "code",
   "execution_count": null,
   "metadata": {},
   "outputs": [],
   "source": [
    "El metacaracter \"|\" que se denomina pipe "
   ]
  },
  {
   "cell_type": "code",
   "execution_count": 8,
   "metadata": {},
   "outputs": [
    {
     "name": "stdout",
     "output_type": "stream",
     "text": [
      "Chile \u001b[01;31m\u001b[KSan\u001b[m\u001b[Ktiago de Chile\n",
      "Costa Rica \u001b[01;31m\u001b[KSan\u001b[m\u001b[K José\n",
      "Cuba \u001b[01;31m\u001b[KLa\u001b[m\u001b[K Habana\n",
      "El Salvador \u001b[01;31m\u001b[KSan\u001b[m\u001b[K Salvador\n",
      "República Dominicana \u001b[01;31m\u001b[KSan\u001b[m\u001b[Kto Domingo\n",
      "\u001b[01;31m\u001b[KSan\u001b[m\u001b[K Cristóbal y Nieves Basseterre\n",
      "\u001b[01;31m\u001b[KSan\u001b[m\u001b[K Vicente y las Granadinas Kingstown\n",
      "\u001b[01;31m\u001b[KSan\u001b[m\u001b[Kta Lucía Castries\n"
     ]
    }
   ],
   "source": [
    "egrep \"San|La\" archivo.txt "
   ]
  },
  {
   "cell_type": "markdown",
   "metadata": {},
   "source": [
    "Indicar en que linea se encuentra el match "
   ]
  },
  {
   "cell_type": "code",
   "execution_count": 9,
   "metadata": {},
   "outputs": [
    {
     "name": "stdout",
     "output_type": "stream",
     "text": [
      "\u001b[32m\u001b[K1\u001b[m\u001b[K\u001b[36m\u001b[K:\u001b[m\u001b[KAntigua y Barbuda Saint John'\u001b[01;31m\u001b[Ks\u001b[m\u001b[K\n",
      "\u001b[32m\u001b[K2\u001b[m\u001b[K\u001b[36m\u001b[K:\u001b[m\u001b[KArgentina Buenos Aire\u001b[01;31m\u001b[Ks\u001b[m\u001b[K\n",
      "\u001b[32m\u001b[K31\u001b[m\u001b[K\u001b[36m\u001b[K:\u001b[m\u001b[KSanta Lucía Castrie\u001b[01;31m\u001b[Ks\u001b[m\u001b[K\n",
      "\u001b[32m\u001b[K35\u001b[m\u001b[K\u001b[36m\u001b[K:\u001b[m\u001b[KVenezuela Caraca\u001b[01;31m\u001b[Ks\u001b[m\u001b[K\n"
     ]
    }
   ],
   "source": [
    " egrep -n \"s$\" archivo.txt "
   ]
  },
  {
   "cell_type": "markdown",
   "metadata": {},
   "source": [
    "Resumen: "
   ]
  },
  {
   "cell_type": "markdown",
   "metadata": {},
   "source": [
    "<img src=\"tabla_regex.png\">"
   ]
  },
  {
   "cell_type": "code",
   "execution_count": null,
   "metadata": {},
   "outputs": [],
   "source": []
  }
 ],
 "metadata": {
  "kernelspec": {
   "display_name": "Bash",
   "language": "bash",
   "name": "bash"
  },
  "language_info": {
   "codemirror_mode": "shell",
   "file_extension": ".sh",
   "mimetype": "text/x-sh",
   "name": "bash"
  }
 },
 "nbformat": 4,
 "nbformat_minor": 4
}
